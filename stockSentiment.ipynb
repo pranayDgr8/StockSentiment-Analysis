{
  "cells": [
    {
      "cell_type": "markdown",
      "metadata": {
        "id": "view-in-github",
        "colab_type": "text"
      },
      "source": [
        "<a href=\"https://colab.research.google.com/github/pranayDgr8/StockSentiment-Analysis/blob/main/stockSentiment.ipynb\" target=\"_parent\"><img src=\"https://colab.research.google.com/assets/colab-badge.svg\" alt=\"Open In Colab\"/></a>"
      ]
    },
    {
      "cell_type": "markdown",
      "metadata": {
        "id": "_BnpQldq6fMj"
      },
      "source": [
        "# **Stock Sentiment Analysis using headlines**\n",
        "\n",
        "\n",
        "\n",
        "Pranaydeep Mayank(19BAI1026)"
      ]
    },
    {
      "cell_type": "code",
      "execution_count": null,
      "metadata": {
        "colab": {
          "base_uri": "https://localhost:8080/"
        },
        "id": "uNazIyfMaG8A",
        "outputId": "0a00db9e-1dd0-45a3-ade1-49f7aac2f47e"
      },
      "outputs": [
        {
          "output_type": "stream",
          "name": "stdout",
          "text": [
            "Drive already mounted at /content/drive; to attempt to forcibly remount, call drive.mount(\"/content/drive\", force_remount=True).\n"
          ]
        }
      ],
      "source": [
        "from google.colab import drive\n",
        "drive.mount('/content/drive')"
      ]
    },
    {
      "cell_type": "markdown",
      "source": [
        "Loading the Dataset"
      ],
      "metadata": {
        "id": "RCjWNaztCPqO"
      }
    },
    {
      "cell_type": "code",
      "execution_count": null,
      "metadata": {
        "colab": {
          "base_uri": "https://localhost:8080/",
          "height": 1000
        },
        "id": "4D7LgiM0bB_7",
        "outputId": "b5d3466f-8446-4e77-d994-a74198259f44"
      },
      "outputs": [
        {
          "output_type": "execute_result",
          "data": {
            "text/plain": [
              "          Date  Label                                               Top1  \\\n",
              "0   2000-01-03      0  A 'hindrance to operations': extracts from the...   \n",
              "1   2000-01-04      0                                          Scorecard   \n",
              "2   2000-01-05      0                  Coventry caught on counter by Flo   \n",
              "3   2000-01-06      1                      Pilgrim knows how to progress   \n",
              "4   2000-01-07      1                               Hitches and Horlocks   \n",
              "5   2000-01-10      1                                   Fifth round draw   \n",
              "6   2000-01-11      1                      Man Utd 2 - 0 South Melbourne   \n",
              "7   2000-01-12      0                Newcastle seek new football supremo   \n",
              "8   2000-01-13      1                   Bungling officials on the carpet   \n",
              "9   2000-01-14      1                  Pompey plump for Pulis work ethic   \n",
              "10  2000-01-18      1               England's elite set for pay struggle   \n",
              "11  2000-01-19      0  No apologies from the captains for contrived f...   \n",
              "12  2000-01-20      0            Homes alone won't make us world beaters   \n",
              "13  2000-01-21      0  Never mind Tyson, we is the tops at melting th...   \n",
              "14  2000-01-24      0                     Lee puts the skids on Pakistan   \n",
              "15  2000-01-25      0            Dazzler is back and England are beaming   \n",
              "16  2000-01-26      1    Best go for Georgie and sack Good Time Charlton   \n",
              "17  2000-01-27      1               Lancashire target Tendulkar the Tyke   \n",
              "18  2000-01-28      0       Carlton ratings rise at new midlands station   \n",
              "19  2000-01-31      0                          Nationwide Third Division   \n",
              "\n",
              "                                                 Top2  \\\n",
              "0                                           Scorecard   \n",
              "1                                 The best lake scene   \n",
              "2                  United's rivals on the road to Rio   \n",
              "3                                 Thatcher facing ban   \n",
              "4                      Beckham off but United survive   \n",
              "5   BBC unveils secret weapon in ratings war: Sout...   \n",
              "6   How North Atlantic drift could carry away Old ...   \n",
              "7               Liverpool aim to speed up Heskey deal   \n",
              "8   And in the red and raw corner it's 'Killer' Ma...   \n",
              "9           Roma under fire over Rolexes for referees   \n",
              "10                    Robson puts his job on the line   \n",
              "11          One-off deal sets up Hussain Test victory   \n",
              "12            Wembley crackdown on pirate hospitality   \n",
              "13                     Keegan faces German test first   \n",
              "14                             Jim Swanton dies at 92   \n",
              "15  Rivaldo shoo-in  Brazilian is world player of ...   \n",
              "16             Wright facing lengthy ban for outburst   \n",
              "17                            Early shock for England   \n",
              "18                  United shake up the young brigade   \n",
              "19                         Nationwide Second Division   \n",
              "\n",
              "                                                 Top3  \\\n",
              "0                     Hughes' instant hit buoys Blues   \n",
              "1                       Leader: German sleaze inquiry   \n",
              "2       Thatcher issues defence before trial by video   \n",
              "3             McIlroy calls for Irish fighting spirit   \n",
              "4                             Breast cancer screening   \n",
              "5                            Second Division round-up   \n",
              "6               Buoyant BBC to show Brazil final live   \n",
              "7                                Highlanders voted up   \n",
              "8                     United put their shirts on £30m   \n",
              "9               Prenton Park Two told to take a break   \n",
              "10                 Old Firm lobby to replace Uefa Cup   \n",
              "11  Old Trafford in talks to reduce Yorke's nation...   \n",
              "12                          Keegan calls for pay curb   \n",
              "13                       Magpies swoop on Sparrowhawk   \n",
              "14                      Wilson proposes a loyal toast   \n",
              "15                  Stealthy Spurs swoop for teenager   \n",
              "16                         Dream script for Kenwright   \n",
              "17                 Atherton in dock for county attack   \n",
              "18           Svensson departs as Palace pay their way   \n",
              "19                          Nationwide First Division   \n",
              "\n",
              "                                                 Top4  \\\n",
              "0            Jack gets his skates on at ice-cold Alex   \n",
              "1                                       Cheerio, boyo   \n",
              "2       Police help Smith lay down the law at Everton   \n",
              "3                     Leicester bin stadium blueprint   \n",
              "4                                         Alan Parker   \n",
              "5                                   European round-up   \n",
              "6                 Tranmere given all-clear in the Cup   \n",
              "7                Edwards' power play suffers new blow   \n",
              "8      England against plan for home nations' revival   \n",
              "9   OK, I didn't figure in Rio but I'm still No1 w...   \n",
              "10                      Babbel to check in at Anfield   \n",
              "11                Draper sets out his stall in Madrid   \n",
              "12                            Backing for Saint Jones   \n",
              "13           Investors call on Ashton to end campaign   \n",
              "14                                Wigan held by peers   \n",
              "15      Fans talk when the Premier goes to the people   \n",
              "16                        Bradford shun £3m Collymore   \n",
              "17           Valiant England come up short by one run   \n",
              "18                      Running scared of bad company   \n",
              "19              Birmingham three face Italian charges   \n",
              "\n",
              "                                                Top5  \\\n",
              "0             Chaos as Maracana builds up for United   \n",
              "1                           The main recommendations   \n",
              "2        Tale of Trautmann bears two more retellings   \n",
              "3                     United braced for Mexican wave   \n",
              "4            Guardian readers: are you all whingers?   \n",
              "5                            Third Division round-up   \n",
              "6                     United sit poorly with the Doc   \n",
              "7                             Chelsea gamble on Weah   \n",
              "8                   Donald poised to quit Test scene   \n",
              "9                    Chelsea tune in to Weah's world   \n",
              "10                     For Muralitharan read MacGill   \n",
              "11                       Forest giant still standing   \n",
              "12                            Leboeuf rises to Bates   \n",
              "13  All Wright  Celtic striker is not a secret agent   \n",
              "14                            Weah warms to hot spot   \n",
              "15                     Gregory is keen to bag Heskey   \n",
              "16                     Villa stall on Leicester grit   \n",
              "17                         Tranmere make final offer   \n",
              "18                            Bradford back for Stan   \n",
              "19            Rangers make light of perilous defence   \n",
              "\n",
              "                                                 Top6  \\\n",
              "0   Depleted Leicester prevail as Elliott spoils E...   \n",
              "1                              Has Cubie killed fees?   \n",
              "2                                 England on the rack   \n",
              "3   Auntie back in fashion, even if the dress look...   \n",
              "4                                    Hollywood Beyond   \n",
              "5   Welfare could claim Killie tie as Caley Thistl...   \n",
              "6            Queen's Park peril clouds Hampden future   \n",
              "7                      Taylor settles the eternal tie   \n",
              "8                         Adams stares into the abyss   \n",
              "9                       Top storey awaits the Cottage   \n",
              "10                   All padded up with nowhere to go   \n",
              "11                 Adams stays on Arsenal injury roll   \n",
              "12                         South Africa Test averages   \n",
              "13             Under-19s make sad exit from World Cup   \n",
              "14                          Town rise to pitch battle   \n",
              "15                        Double vision for Euro 2000   \n",
              "16                         Ganguly gives India a lift   \n",
              "17           Liverpool ready to gamble with Ravanelli   \n",
              "18          Robson can save his scalp at Old Trafford   \n",
              "19         Computer problem delays Endeavour's launch   \n",
              "\n",
              "                                                 Top7  \\\n",
              "0                    Hungry Spurs sense rich pickings   \n",
              "1                              Has Cubie killed fees?   \n",
              "2     Pakistan retaliate with call for video of Walsh   \n",
              "3                       Shoaib appeal goes to the top   \n",
              "4                                  Ashes and diamonds   \n",
              "5            Ferguson puts brave face on Rio meltdown   \n",
              "6                   Waugh hits out at Shoaib reprieve   \n",
              "7   Tenth top-flight club falls as Hodge has final...   \n",
              "8                                   Money money money   \n",
              "9            West Indies unveil fiery next generation   \n",
              "10               Individuals who support the alliance   \n",
              "11                          The young and the witless   \n",
              "12                    Wasim loses way after milestone   \n",
              "13                  England lines up all-Asian finale   \n",
              "14                    Taylor rages at the Watford gap   \n",
              "15                    Dalglish given official warning   \n",
              "16                   Town planning: Harbouring doubts   \n",
              "17                   Hillsborough eyes new technology   \n",
              "18             Dismal England but that is no surprise   \n",
              "19         Nasa clears Endeavour's engines for launch   \n",
              "\n",
              "                                                 Top8  ...  \\\n",
              "0                   Gunners so wide of an easy target  ...   \n",
              "1                              Has Cubie killed fees?  ...   \n",
              "2                Cullinan continues his Cape monopoly  ...   \n",
              "3   Hussain hurt by 'shambles' but lays blame on e...  ...   \n",
              "4                    Whingers - a formidable minority  ...   \n",
              "5    Southgate in striking form to pre-empt penalties  ...   \n",
              "6               Knight makes case for Butcher's place  ...   \n",
              "7                              Charlton charge to top  ...   \n",
              "8                              Tyson to enter Britain  ...   \n",
              "9          Donald's killing fields await edgy England  ...   \n",
              "10                                The best omen scene  ...   \n",
              "11                           Indian outing for Donald  ...   \n",
              "12                         Swann asked to hang around  ...   \n",
              "13                                         Scoreboard  ...   \n",
              "14                    Robson turning white by mistake  ...   \n",
              "15  Harry Potter and the Prisoner of Azkaban by JK...  ...   \n",
              "16                 Caddick at one with the new regime  ...   \n",
              "17                           Flying Scots are chuffed  ...   \n",
              "18              Abject England fold without a whimper  ...   \n",
              "19           Inquiry and helpline for Shipman victims  ...   \n",
              "\n",
              "                                                Top16  \\\n",
              "0            Flintoff injury piles on woe for England   \n",
              "1                                On the critical list   \n",
              "2                         South Melbourne (Australia)   \n",
              "3   Putin admits Yeltsin quit to give him a head s...   \n",
              "4                              Most everywhere:  UDIs   \n",
              "5                        Time Warner and AOL to merge   \n",
              "6                            I'd like that in writing   \n",
              "7                                         Like-minded   \n",
              "8            Dinner plates, Microwave ovens and Toast   \n",
              "9           Schreiber: The man who would topple kings   \n",
              "10                                        Plus points   \n",
              "11                   The case against Ken Livingstone   \n",
              "12                     Is postgraduate study for you?   \n",
              "13                                  Voices from Spain   \n",
              "14                   Bassett pulls the Tykes together   \n",
              "15     Lib Dems face row after tuition fees climbdown   \n",
              "16                         White Teeth by Zadie Smith   \n",
              "17                         State of the union address   \n",
              "18                            Mr Straw sees the light   \n",
              "19      Shipman found guilty of murdering 15 patients   \n",
              "\n",
              "                                                Top17  \\\n",
              "0   Hunters threaten Jospin with new battle of the...   \n",
              "1                           The timing of their lives   \n",
              "2                                     Necaxa (Mexico)   \n",
              "3          BBC worst hit as digital TV begins to bite   \n",
              "4                        Most wanted:  Chloe lunettes   \n",
              "5                                             Keep up   \n",
              "6        Split vote may offer NatWest takeover escape   \n",
              "7                               Is it cos I is black?   \n",
              "8   No one can be simultaneously free yet live in ...   \n",
              "9                  Joe Ashton's letter of resignation   \n",
              "10         DiCaprio considering Anakin Skywalker role   \n",
              "11  Rumours of talks as Russians continue Chechen ...   \n",
              "12                            Turn these clients away   \n",
              "13           Internet delivery may be future of video   \n",
              "14     Agile Gould spares ring-rusty Celtic's blushes   \n",
              "15                         Away with our heavy burden   \n",
              "16      Looking for glamour at the Whitbread ceremony   \n",
              "17                                   Doctors of death   \n",
              "18  Town denies racism amid media scrutiny of hang...   \n",
              "19                         New party threatens Mugabe   \n",
              "\n",
              "                                                Top18  \\\n",
              "0                 Kohl's successor drawn into scandal   \n",
              "1                                         Dear doctor   \n",
              "2                                 Real Madrid (Spain)   \n",
              "3                         How much can you pay for...   \n",
              "4      Return of the cane 'completely off the agenda'   \n",
              "5                                   Waging global war   \n",
              "6              Teaching is for stayers, not sprinters   \n",
              "7            Megabucks, Out of luck, and What the...?   \n",
              "8                 More doubt on Pakistan arms exports   \n",
              "9                 Ashton resigns from Wednesday board   \n",
              "10      'No question' of a decision on Pinochet today   \n",
              "11                               Deeper into the mire   \n",
              "12  The generals profit as the people pay with the...   \n",
              "13    Business school puts its faith in ex-fundraiser   \n",
              "14                         European scores and tables   \n",
              "15                                         Class acts   \n",
              "16                                     Land of plenty   \n",
              "17  M&S hopes for brighter future by ditching dowd...   \n",
              "18       Yard race unit aids Telford hangings inquiry   \n",
              "19                              Two views from Harare   \n",
              "\n",
              "                                                Top19  \\\n",
              "0                The difference between men and women   \n",
              "1   Irish court halts IRA man's extradition to Nor...   \n",
              "2                           Raja Casablanca (Morocco)   \n",
              "3                                  Christmas glitches   \n",
              "4                    From Sleepy Hollow to Greeneland   \n",
              "5            Desktop icons, No 1: The Qwerty keyboard   \n",
              "6                                 A lesson in respect   \n",
              "7    Cabinet battle rages over ethical foreign policy   \n",
              "8                                   Another fine mess   \n",
              "9                     Stravinsky: The Rake's Progress   \n",
              "10                 Tesco's silence refuels M&S rumour   \n",
              "11                              Your millennium poems   \n",
              "12             The Wakeham commission recommendations   \n",
              "13                  Degree evolves to meet your needs   \n",
              "14  Big Top is full of holes as circus returns to ...   \n",
              "15                                     My inspiration   \n",
              "16     Vandevelde offers fresh upheaval for M&S board   \n",
              "17                            Straw extends race bill   \n",
              "18    Beowulf bowls out Harry Potter for second award   \n",
              "19            Cretins, Blabbermouths and John Gregory   \n",
              "\n",
              "                                                Top20  \\\n",
              "0                 Sara Denver, nurse turned solicitor   \n",
              "1   Burundi peace initiative fades after rebels re...   \n",
              "2                                Corinthians (Brazil)   \n",
              "3   Upending a table, Chopping a line and Scoring ...   \n",
              "4               Blunkett outlines vision for over 11s   \n",
              "5                                     The sec's files   \n",
              "6           'Now everyone knows we are a good school'   \n",
              "7                 Radio station becomes Talk of sport   \n",
              "8                           Cybershopping: sportswear   \n",
              "9                           The best waterfront scene   \n",
              "10        Irving claims mad or mendacious, court told   \n",
              "11              Kohl forced out as Schäuble clings on   \n",
              "12        Vanessa Feltz returns to daytime television   \n",
              "13                   Harness the e-commerce explosion   \n",
              "14                            Third Division round-up   \n",
              "15                                 Lunchtime learning   \n",
              "16             Watchdog moves to curb racist websites   \n",
              "17          Pathologist's doubts on 'suicide' hanging   \n",
              "18                                   Joining the dots   \n",
              "19                  Shipman was sacked for drug abuse   \n",
              "\n",
              "                                                Top21  \\\n",
              "0      Diana's landmine crusade put Tories in a panic   \n",
              "1                PE points the way forward to the ECB   \n",
              "2                                  Tony's pet project   \n",
              "3    Scientific evidence 'unreliable', defence claims   \n",
              "4   Embattled Dobson attacks 'play now, pay later'...   \n",
              "5                    The low down: Workplace bullying   \n",
              "6       'What's wrong with giving teachers applause?'   \n",
              "7                               A better breed of dad   \n",
              "8                      How much can you pay for . . .   \n",
              "9                     Incompetence, Insult and Injury   \n",
              "10          Moratti joins GMG in venture capital firm   \n",
              "11  My life on the net: David Long, Reclaim the St...   \n",
              "12     Tesco leads the world online growth and profit   \n",
              "13  Case two: 'A long, hard, lonely road - but it ...   \n",
              "14                           Second Division round-up   \n",
              "15                           New UK brand is launched   \n",
              "16                    Hanged men 'victims of racists'   \n",
              "17  Scurrilous jigsaws, Special cakes and Squashed...   \n",
              "18                                      Anything goes   \n",
              "19              'A tragic and deeply disturbing case'   \n",
              "\n",
              "                                                Top22  \\\n",
              "0   Yeltsin's resignation caught opposition flat-f...   \n",
              "1   Campaigners keep up pressure on Nazi war crime...   \n",
              "2                             Al Nassr (Saudi Arabia)   \n",
              "3      Fusco wins judicial review in extradition case   \n",
              "4                                   Doom and the Dome   \n",
              "5                 Met 'not equipped' to solve murders   \n",
              "6    'When I realised I'd won I felt sick with shock'   \n",
              "7                                     Childish things   \n",
              "8              Hillary holds her own on The Late Show   \n",
              "9                                    Finding the time   \n",
              "10                Peak Practice sex claims criticised   \n",
              "11  Tips on getting more efficiency out of women e...   \n",
              "12           Cybersurfing: window shopping on the web   \n",
              "13  Case three: 'Discipline and hard work are esse...   \n",
              "14                            First Division round-up   \n",
              "15                                            Letters   \n",
              "16     Great Grannies, Greek gripes and Gregory Grant   \n",
              "17                             Web versus high street   \n",
              "18                         Most wanted:  boo.com sale   \n",
              "19                             The role of toxicology   \n",
              "\n",
              "                                             Top23  \\\n",
              "0                                 Russian roulette   \n",
              "1                                   Jane Ratcliffe   \n",
              "2                                Ideal Holmes show   \n",
              "3                    Rebels thwart Russian advance   \n",
              "4                  What is the north-south divide?   \n",
              "5                Tranmere tie will not be replayed   \n",
              "6   No more 'tenderness' from stung Russian forces   \n",
              "7                         Kids: just say hopscotch   \n",
              "8                             Bye, bye American pi   \n",
              "9     England take six on rain-shortened first day   \n",
              "10                Baddiel and Skinner back for ITV   \n",
              "11                        Policing: Stop and think   \n",
              "12         Bargain hunting:  how to compare prices   \n",
              "13       How to maximise your employment potential   \n",
              "14                 Zidane shines as Juve win again   \n",
              "15                       Health and safety at work   \n",
              "16                                  A virtual life   \n",
              "17              Guardian group gets a new chairman   \n",
              "18                   Most everywhere:  karma beads   \n",
              "19                      Inside Preston crown court   \n",
              "\n",
              "                                                Top24  \\\n",
              "0                                            Sold out   \n",
              "1   Yet more things you wouldn't know without the ...   \n",
              "2                Pinochet leaves hospital after tests   \n",
              "3                Blair orders shake-up of failing NHS   \n",
              "4                           Aitken released from jail   \n",
              "5                   Rebel attacks take toll on Russia   \n",
              "6   Inspectors warn pressure might lead officers t...   \n",
              "7                                  Smoke without fire   \n",
              "8       Tension mounts as Straw stands by trial plans   \n",
              "9          Media sale nets Chris Evans a £75m 'divvy'   \n",
              "10                                  Outright quackery   \n",
              "11  'A police service that can enjoy widespread su...   \n",
              "12                 Cybershopping's 50 favourite sites   \n",
              "13  PhD rewards are high if you don't lose your pa...   \n",
              "14                              In a world of his own   \n",
              "15                                Seeing is believing   \n",
              "16                                  The kiss of death   \n",
              "17                     How much can you pay for . . .   \n",
              "18                            Diplomacy for democracy   \n",
              "19                  Denial upon falsehood upon deceit   \n",
              "\n",
              "                                             Top25  \n",
              "0                               Recovering a title  \n",
              "1                     Millennium bug fails to bite  \n",
              "2                                     Useful links  \n",
              "3                      Lessons of law's hard heart  \n",
              "4                                       Gone aloft  \n",
              "5                 Met lent stopped car to Lawrence  \n",
              "6                           Repairing Jack's house  \n",
              "7   Press reaction from Spain, Chile and Argentina  \n",
              "8      Harrods loses Prince Philip's royal warrant  \n",
              "9                                 Scissors at dawn  \n",
              "10                         How to avoid the quacks  \n",
              "11         Blair rebukes Hague on crime and health  \n",
              "12                Falling for Vertigo by WG Sebald  \n",
              "13                  £100m to run school pay system  \n",
              "14                Laurel and Hardy comedy classics  \n",
              "15                                 Three's company  \n",
              "16      'Dear Dilys, are you really this selfish?'  \n",
              "17                          Buy now, regret later?  \n",
              "18                         Diplomacy for democracy  \n",
              "19    Irving not anti-semitic, claims US professor  \n",
              "\n",
              "[20 rows x 27 columns]"
            ],
            "text/html": [
              "\n",
              "  <div id=\"df-7ef3ac6e-0546-4adc-b084-e8a9ce0c432b\">\n",
              "    <div class=\"colab-df-container\">\n",
              "      <div>\n",
              "<style scoped>\n",
              "    .dataframe tbody tr th:only-of-type {\n",
              "        vertical-align: middle;\n",
              "    }\n",
              "\n",
              "    .dataframe tbody tr th {\n",
              "        vertical-align: top;\n",
              "    }\n",
              "\n",
              "    .dataframe thead th {\n",
              "        text-align: right;\n",
              "    }\n",
              "</style>\n",
              "<table border=\"1\" class=\"dataframe\">\n",
              "  <thead>\n",
              "    <tr style=\"text-align: right;\">\n",
              "      <th></th>\n",
              "      <th>Date</th>\n",
              "      <th>Label</th>\n",
              "      <th>Top1</th>\n",
              "      <th>Top2</th>\n",
              "      <th>Top3</th>\n",
              "      <th>Top4</th>\n",
              "      <th>Top5</th>\n",
              "      <th>Top6</th>\n",
              "      <th>Top7</th>\n",
              "      <th>Top8</th>\n",
              "      <th>...</th>\n",
              "      <th>Top16</th>\n",
              "      <th>Top17</th>\n",
              "      <th>Top18</th>\n",
              "      <th>Top19</th>\n",
              "      <th>Top20</th>\n",
              "      <th>Top21</th>\n",
              "      <th>Top22</th>\n",
              "      <th>Top23</th>\n",
              "      <th>Top24</th>\n",
              "      <th>Top25</th>\n",
              "    </tr>\n",
              "  </thead>\n",
              "  <tbody>\n",
              "    <tr>\n",
              "      <th>0</th>\n",
              "      <td>2000-01-03</td>\n",
              "      <td>0</td>\n",
              "      <td>A 'hindrance to operations': extracts from the...</td>\n",
              "      <td>Scorecard</td>\n",
              "      <td>Hughes' instant hit buoys Blues</td>\n",
              "      <td>Jack gets his skates on at ice-cold Alex</td>\n",
              "      <td>Chaos as Maracana builds up for United</td>\n",
              "      <td>Depleted Leicester prevail as Elliott spoils E...</td>\n",
              "      <td>Hungry Spurs sense rich pickings</td>\n",
              "      <td>Gunners so wide of an easy target</td>\n",
              "      <td>...</td>\n",
              "      <td>Flintoff injury piles on woe for England</td>\n",
              "      <td>Hunters threaten Jospin with new battle of the...</td>\n",
              "      <td>Kohl's successor drawn into scandal</td>\n",
              "      <td>The difference between men and women</td>\n",
              "      <td>Sara Denver, nurse turned solicitor</td>\n",
              "      <td>Diana's landmine crusade put Tories in a panic</td>\n",
              "      <td>Yeltsin's resignation caught opposition flat-f...</td>\n",
              "      <td>Russian roulette</td>\n",
              "      <td>Sold out</td>\n",
              "      <td>Recovering a title</td>\n",
              "    </tr>\n",
              "    <tr>\n",
              "      <th>1</th>\n",
              "      <td>2000-01-04</td>\n",
              "      <td>0</td>\n",
              "      <td>Scorecard</td>\n",
              "      <td>The best lake scene</td>\n",
              "      <td>Leader: German sleaze inquiry</td>\n",
              "      <td>Cheerio, boyo</td>\n",
              "      <td>The main recommendations</td>\n",
              "      <td>Has Cubie killed fees?</td>\n",
              "      <td>Has Cubie killed fees?</td>\n",
              "      <td>Has Cubie killed fees?</td>\n",
              "      <td>...</td>\n",
              "      <td>On the critical list</td>\n",
              "      <td>The timing of their lives</td>\n",
              "      <td>Dear doctor</td>\n",
              "      <td>Irish court halts IRA man's extradition to Nor...</td>\n",
              "      <td>Burundi peace initiative fades after rebels re...</td>\n",
              "      <td>PE points the way forward to the ECB</td>\n",
              "      <td>Campaigners keep up pressure on Nazi war crime...</td>\n",
              "      <td>Jane Ratcliffe</td>\n",
              "      <td>Yet more things you wouldn't know without the ...</td>\n",
              "      <td>Millennium bug fails to bite</td>\n",
              "    </tr>\n",
              "    <tr>\n",
              "      <th>2</th>\n",
              "      <td>2000-01-05</td>\n",
              "      <td>0</td>\n",
              "      <td>Coventry caught on counter by Flo</td>\n",
              "      <td>United's rivals on the road to Rio</td>\n",
              "      <td>Thatcher issues defence before trial by video</td>\n",
              "      <td>Police help Smith lay down the law at Everton</td>\n",
              "      <td>Tale of Trautmann bears two more retellings</td>\n",
              "      <td>England on the rack</td>\n",
              "      <td>Pakistan retaliate with call for video of Walsh</td>\n",
              "      <td>Cullinan continues his Cape monopoly</td>\n",
              "      <td>...</td>\n",
              "      <td>South Melbourne (Australia)</td>\n",
              "      <td>Necaxa (Mexico)</td>\n",
              "      <td>Real Madrid (Spain)</td>\n",
              "      <td>Raja Casablanca (Morocco)</td>\n",
              "      <td>Corinthians (Brazil)</td>\n",
              "      <td>Tony's pet project</td>\n",
              "      <td>Al Nassr (Saudi Arabia)</td>\n",
              "      <td>Ideal Holmes show</td>\n",
              "      <td>Pinochet leaves hospital after tests</td>\n",
              "      <td>Useful links</td>\n",
              "    </tr>\n",
              "    <tr>\n",
              "      <th>3</th>\n",
              "      <td>2000-01-06</td>\n",
              "      <td>1</td>\n",
              "      <td>Pilgrim knows how to progress</td>\n",
              "      <td>Thatcher facing ban</td>\n",
              "      <td>McIlroy calls for Irish fighting spirit</td>\n",
              "      <td>Leicester bin stadium blueprint</td>\n",
              "      <td>United braced for Mexican wave</td>\n",
              "      <td>Auntie back in fashion, even if the dress look...</td>\n",
              "      <td>Shoaib appeal goes to the top</td>\n",
              "      <td>Hussain hurt by 'shambles' but lays blame on e...</td>\n",
              "      <td>...</td>\n",
              "      <td>Putin admits Yeltsin quit to give him a head s...</td>\n",
              "      <td>BBC worst hit as digital TV begins to bite</td>\n",
              "      <td>How much can you pay for...</td>\n",
              "      <td>Christmas glitches</td>\n",
              "      <td>Upending a table, Chopping a line and Scoring ...</td>\n",
              "      <td>Scientific evidence 'unreliable', defence claims</td>\n",
              "      <td>Fusco wins judicial review in extradition case</td>\n",
              "      <td>Rebels thwart Russian advance</td>\n",
              "      <td>Blair orders shake-up of failing NHS</td>\n",
              "      <td>Lessons of law's hard heart</td>\n",
              "    </tr>\n",
              "    <tr>\n",
              "      <th>4</th>\n",
              "      <td>2000-01-07</td>\n",
              "      <td>1</td>\n",
              "      <td>Hitches and Horlocks</td>\n",
              "      <td>Beckham off but United survive</td>\n",
              "      <td>Breast cancer screening</td>\n",
              "      <td>Alan Parker</td>\n",
              "      <td>Guardian readers: are you all whingers?</td>\n",
              "      <td>Hollywood Beyond</td>\n",
              "      <td>Ashes and diamonds</td>\n",
              "      <td>Whingers - a formidable minority</td>\n",
              "      <td>...</td>\n",
              "      <td>Most everywhere:  UDIs</td>\n",
              "      <td>Most wanted:  Chloe lunettes</td>\n",
              "      <td>Return of the cane 'completely off the agenda'</td>\n",
              "      <td>From Sleepy Hollow to Greeneland</td>\n",
              "      <td>Blunkett outlines vision for over 11s</td>\n",
              "      <td>Embattled Dobson attacks 'play now, pay later'...</td>\n",
              "      <td>Doom and the Dome</td>\n",
              "      <td>What is the north-south divide?</td>\n",
              "      <td>Aitken released from jail</td>\n",
              "      <td>Gone aloft</td>\n",
              "    </tr>\n",
              "    <tr>\n",
              "      <th>5</th>\n",
              "      <td>2000-01-10</td>\n",
              "      <td>1</td>\n",
              "      <td>Fifth round draw</td>\n",
              "      <td>BBC unveils secret weapon in ratings war: Sout...</td>\n",
              "      <td>Second Division round-up</td>\n",
              "      <td>European round-up</td>\n",
              "      <td>Third Division round-up</td>\n",
              "      <td>Welfare could claim Killie tie as Caley Thistl...</td>\n",
              "      <td>Ferguson puts brave face on Rio meltdown</td>\n",
              "      <td>Southgate in striking form to pre-empt penalties</td>\n",
              "      <td>...</td>\n",
              "      <td>Time Warner and AOL to merge</td>\n",
              "      <td>Keep up</td>\n",
              "      <td>Waging global war</td>\n",
              "      <td>Desktop icons, No 1: The Qwerty keyboard</td>\n",
              "      <td>The sec's files</td>\n",
              "      <td>The low down: Workplace bullying</td>\n",
              "      <td>Met 'not equipped' to solve murders</td>\n",
              "      <td>Tranmere tie will not be replayed</td>\n",
              "      <td>Rebel attacks take toll on Russia</td>\n",
              "      <td>Met lent stopped car to Lawrence</td>\n",
              "    </tr>\n",
              "    <tr>\n",
              "      <th>6</th>\n",
              "      <td>2000-01-11</td>\n",
              "      <td>1</td>\n",
              "      <td>Man Utd 2 - 0 South Melbourne</td>\n",
              "      <td>How North Atlantic drift could carry away Old ...</td>\n",
              "      <td>Buoyant BBC to show Brazil final live</td>\n",
              "      <td>Tranmere given all-clear in the Cup</td>\n",
              "      <td>United sit poorly with the Doc</td>\n",
              "      <td>Queen's Park peril clouds Hampden future</td>\n",
              "      <td>Waugh hits out at Shoaib reprieve</td>\n",
              "      <td>Knight makes case for Butcher's place</td>\n",
              "      <td>...</td>\n",
              "      <td>I'd like that in writing</td>\n",
              "      <td>Split vote may offer NatWest takeover escape</td>\n",
              "      <td>Teaching is for stayers, not sprinters</td>\n",
              "      <td>A lesson in respect</td>\n",
              "      <td>'Now everyone knows we are a good school'</td>\n",
              "      <td>'What's wrong with giving teachers applause?'</td>\n",
              "      <td>'When I realised I'd won I felt sick with shock'</td>\n",
              "      <td>No more 'tenderness' from stung Russian forces</td>\n",
              "      <td>Inspectors warn pressure might lead officers t...</td>\n",
              "      <td>Repairing Jack's house</td>\n",
              "    </tr>\n",
              "    <tr>\n",
              "      <th>7</th>\n",
              "      <td>2000-01-12</td>\n",
              "      <td>0</td>\n",
              "      <td>Newcastle seek new football supremo</td>\n",
              "      <td>Liverpool aim to speed up Heskey deal</td>\n",
              "      <td>Highlanders voted up</td>\n",
              "      <td>Edwards' power play suffers new blow</td>\n",
              "      <td>Chelsea gamble on Weah</td>\n",
              "      <td>Taylor settles the eternal tie</td>\n",
              "      <td>Tenth top-flight club falls as Hodge has final...</td>\n",
              "      <td>Charlton charge to top</td>\n",
              "      <td>...</td>\n",
              "      <td>Like-minded</td>\n",
              "      <td>Is it cos I is black?</td>\n",
              "      <td>Megabucks, Out of luck, and What the...?</td>\n",
              "      <td>Cabinet battle rages over ethical foreign policy</td>\n",
              "      <td>Radio station becomes Talk of sport</td>\n",
              "      <td>A better breed of dad</td>\n",
              "      <td>Childish things</td>\n",
              "      <td>Kids: just say hopscotch</td>\n",
              "      <td>Smoke without fire</td>\n",
              "      <td>Press reaction from Spain, Chile and Argentina</td>\n",
              "    </tr>\n",
              "    <tr>\n",
              "      <th>8</th>\n",
              "      <td>2000-01-13</td>\n",
              "      <td>1</td>\n",
              "      <td>Bungling officials on the carpet</td>\n",
              "      <td>And in the red and raw corner it's 'Killer' Ma...</td>\n",
              "      <td>United put their shirts on £30m</td>\n",
              "      <td>England against plan for home nations' revival</td>\n",
              "      <td>Donald poised to quit Test scene</td>\n",
              "      <td>Adams stares into the abyss</td>\n",
              "      <td>Money money money</td>\n",
              "      <td>Tyson to enter Britain</td>\n",
              "      <td>...</td>\n",
              "      <td>Dinner plates, Microwave ovens and Toast</td>\n",
              "      <td>No one can be simultaneously free yet live in ...</td>\n",
              "      <td>More doubt on Pakistan arms exports</td>\n",
              "      <td>Another fine mess</td>\n",
              "      <td>Cybershopping: sportswear</td>\n",
              "      <td>How much can you pay for . . .</td>\n",
              "      <td>Hillary holds her own on The Late Show</td>\n",
              "      <td>Bye, bye American pi</td>\n",
              "      <td>Tension mounts as Straw stands by trial plans</td>\n",
              "      <td>Harrods loses Prince Philip's royal warrant</td>\n",
              "    </tr>\n",
              "    <tr>\n",
              "      <th>9</th>\n",
              "      <td>2000-01-14</td>\n",
              "      <td>1</td>\n",
              "      <td>Pompey plump for Pulis work ethic</td>\n",
              "      <td>Roma under fire over Rolexes for referees</td>\n",
              "      <td>Prenton Park Two told to take a break</td>\n",
              "      <td>OK, I didn't figure in Rio but I'm still No1 w...</td>\n",
              "      <td>Chelsea tune in to Weah's world</td>\n",
              "      <td>Top storey awaits the Cottage</td>\n",
              "      <td>West Indies unveil fiery next generation</td>\n",
              "      <td>Donald's killing fields await edgy England</td>\n",
              "      <td>...</td>\n",
              "      <td>Schreiber: The man who would topple kings</td>\n",
              "      <td>Joe Ashton's letter of resignation</td>\n",
              "      <td>Ashton resigns from Wednesday board</td>\n",
              "      <td>Stravinsky: The Rake's Progress</td>\n",
              "      <td>The best waterfront scene</td>\n",
              "      <td>Incompetence, Insult and Injury</td>\n",
              "      <td>Finding the time</td>\n",
              "      <td>England take six on rain-shortened first day</td>\n",
              "      <td>Media sale nets Chris Evans a £75m 'divvy'</td>\n",
              "      <td>Scissors at dawn</td>\n",
              "    </tr>\n",
              "    <tr>\n",
              "      <th>10</th>\n",
              "      <td>2000-01-18</td>\n",
              "      <td>1</td>\n",
              "      <td>England's elite set for pay struggle</td>\n",
              "      <td>Robson puts his job on the line</td>\n",
              "      <td>Old Firm lobby to replace Uefa Cup</td>\n",
              "      <td>Babbel to check in at Anfield</td>\n",
              "      <td>For Muralitharan read MacGill</td>\n",
              "      <td>All padded up with nowhere to go</td>\n",
              "      <td>Individuals who support the alliance</td>\n",
              "      <td>The best omen scene</td>\n",
              "      <td>...</td>\n",
              "      <td>Plus points</td>\n",
              "      <td>DiCaprio considering Anakin Skywalker role</td>\n",
              "      <td>'No question' of a decision on Pinochet today</td>\n",
              "      <td>Tesco's silence refuels M&amp;S rumour</td>\n",
              "      <td>Irving claims mad or mendacious, court told</td>\n",
              "      <td>Moratti joins GMG in venture capital firm</td>\n",
              "      <td>Peak Practice sex claims criticised</td>\n",
              "      <td>Baddiel and Skinner back for ITV</td>\n",
              "      <td>Outright quackery</td>\n",
              "      <td>How to avoid the quacks</td>\n",
              "    </tr>\n",
              "    <tr>\n",
              "      <th>11</th>\n",
              "      <td>2000-01-19</td>\n",
              "      <td>0</td>\n",
              "      <td>No apologies from the captains for contrived f...</td>\n",
              "      <td>One-off deal sets up Hussain Test victory</td>\n",
              "      <td>Old Trafford in talks to reduce Yorke's nation...</td>\n",
              "      <td>Draper sets out his stall in Madrid</td>\n",
              "      <td>Forest giant still standing</td>\n",
              "      <td>Adams stays on Arsenal injury roll</td>\n",
              "      <td>The young and the witless</td>\n",
              "      <td>Indian outing for Donald</td>\n",
              "      <td>...</td>\n",
              "      <td>The case against Ken Livingstone</td>\n",
              "      <td>Rumours of talks as Russians continue Chechen ...</td>\n",
              "      <td>Deeper into the mire</td>\n",
              "      <td>Your millennium poems</td>\n",
              "      <td>Kohl forced out as Schäuble clings on</td>\n",
              "      <td>My life on the net: David Long, Reclaim the St...</td>\n",
              "      <td>Tips on getting more efficiency out of women e...</td>\n",
              "      <td>Policing: Stop and think</td>\n",
              "      <td>'A police service that can enjoy widespread su...</td>\n",
              "      <td>Blair rebukes Hague on crime and health</td>\n",
              "    </tr>\n",
              "    <tr>\n",
              "      <th>12</th>\n",
              "      <td>2000-01-20</td>\n",
              "      <td>0</td>\n",
              "      <td>Homes alone won't make us world beaters</td>\n",
              "      <td>Wembley crackdown on pirate hospitality</td>\n",
              "      <td>Keegan calls for pay curb</td>\n",
              "      <td>Backing for Saint Jones</td>\n",
              "      <td>Leboeuf rises to Bates</td>\n",
              "      <td>South Africa Test averages</td>\n",
              "      <td>Wasim loses way after milestone</td>\n",
              "      <td>Swann asked to hang around</td>\n",
              "      <td>...</td>\n",
              "      <td>Is postgraduate study for you?</td>\n",
              "      <td>Turn these clients away</td>\n",
              "      <td>The generals profit as the people pay with the...</td>\n",
              "      <td>The Wakeham commission recommendations</td>\n",
              "      <td>Vanessa Feltz returns to daytime television</td>\n",
              "      <td>Tesco leads the world online growth and profit</td>\n",
              "      <td>Cybersurfing: window shopping on the web</td>\n",
              "      <td>Bargain hunting:  how to compare prices</td>\n",
              "      <td>Cybershopping's 50 favourite sites</td>\n",
              "      <td>Falling for Vertigo by WG Sebald</td>\n",
              "    </tr>\n",
              "    <tr>\n",
              "      <th>13</th>\n",
              "      <td>2000-01-21</td>\n",
              "      <td>0</td>\n",
              "      <td>Never mind Tyson, we is the tops at melting th...</td>\n",
              "      <td>Keegan faces German test first</td>\n",
              "      <td>Magpies swoop on Sparrowhawk</td>\n",
              "      <td>Investors call on Ashton to end campaign</td>\n",
              "      <td>All Wright  Celtic striker is not a secret agent</td>\n",
              "      <td>Under-19s make sad exit from World Cup</td>\n",
              "      <td>England lines up all-Asian finale</td>\n",
              "      <td>Scoreboard</td>\n",
              "      <td>...</td>\n",
              "      <td>Voices from Spain</td>\n",
              "      <td>Internet delivery may be future of video</td>\n",
              "      <td>Business school puts its faith in ex-fundraiser</td>\n",
              "      <td>Degree evolves to meet your needs</td>\n",
              "      <td>Harness the e-commerce explosion</td>\n",
              "      <td>Case two: 'A long, hard, lonely road - but it ...</td>\n",
              "      <td>Case three: 'Discipline and hard work are esse...</td>\n",
              "      <td>How to maximise your employment potential</td>\n",
              "      <td>PhD rewards are high if you don't lose your pa...</td>\n",
              "      <td>£100m to run school pay system</td>\n",
              "    </tr>\n",
              "    <tr>\n",
              "      <th>14</th>\n",
              "      <td>2000-01-24</td>\n",
              "      <td>0</td>\n",
              "      <td>Lee puts the skids on Pakistan</td>\n",
              "      <td>Jim Swanton dies at 92</td>\n",
              "      <td>Wilson proposes a loyal toast</td>\n",
              "      <td>Wigan held by peers</td>\n",
              "      <td>Weah warms to hot spot</td>\n",
              "      <td>Town rise to pitch battle</td>\n",
              "      <td>Taylor rages at the Watford gap</td>\n",
              "      <td>Robson turning white by mistake</td>\n",
              "      <td>...</td>\n",
              "      <td>Bassett pulls the Tykes together</td>\n",
              "      <td>Agile Gould spares ring-rusty Celtic's blushes</td>\n",
              "      <td>European scores and tables</td>\n",
              "      <td>Big Top is full of holes as circus returns to ...</td>\n",
              "      <td>Third Division round-up</td>\n",
              "      <td>Second Division round-up</td>\n",
              "      <td>First Division round-up</td>\n",
              "      <td>Zidane shines as Juve win again</td>\n",
              "      <td>In a world of his own</td>\n",
              "      <td>Laurel and Hardy comedy classics</td>\n",
              "    </tr>\n",
              "    <tr>\n",
              "      <th>15</th>\n",
              "      <td>2000-01-25</td>\n",
              "      <td>0</td>\n",
              "      <td>Dazzler is back and England are beaming</td>\n",
              "      <td>Rivaldo shoo-in  Brazilian is world player of ...</td>\n",
              "      <td>Stealthy Spurs swoop for teenager</td>\n",
              "      <td>Fans talk when the Premier goes to the people</td>\n",
              "      <td>Gregory is keen to bag Heskey</td>\n",
              "      <td>Double vision for Euro 2000</td>\n",
              "      <td>Dalglish given official warning</td>\n",
              "      <td>Harry Potter and the Prisoner of Azkaban by JK...</td>\n",
              "      <td>...</td>\n",
              "      <td>Lib Dems face row after tuition fees climbdown</td>\n",
              "      <td>Away with our heavy burden</td>\n",
              "      <td>Class acts</td>\n",
              "      <td>My inspiration</td>\n",
              "      <td>Lunchtime learning</td>\n",
              "      <td>New UK brand is launched</td>\n",
              "      <td>Letters</td>\n",
              "      <td>Health and safety at work</td>\n",
              "      <td>Seeing is believing</td>\n",
              "      <td>Three's company</td>\n",
              "    </tr>\n",
              "    <tr>\n",
              "      <th>16</th>\n",
              "      <td>2000-01-26</td>\n",
              "      <td>1</td>\n",
              "      <td>Best go for Georgie and sack Good Time Charlton</td>\n",
              "      <td>Wright facing lengthy ban for outburst</td>\n",
              "      <td>Dream script for Kenwright</td>\n",
              "      <td>Bradford shun £3m Collymore</td>\n",
              "      <td>Villa stall on Leicester grit</td>\n",
              "      <td>Ganguly gives India a lift</td>\n",
              "      <td>Town planning: Harbouring doubts</td>\n",
              "      <td>Caddick at one with the new regime</td>\n",
              "      <td>...</td>\n",
              "      <td>White Teeth by Zadie Smith</td>\n",
              "      <td>Looking for glamour at the Whitbread ceremony</td>\n",
              "      <td>Land of plenty</td>\n",
              "      <td>Vandevelde offers fresh upheaval for M&amp;S board</td>\n",
              "      <td>Watchdog moves to curb racist websites</td>\n",
              "      <td>Hanged men 'victims of racists'</td>\n",
              "      <td>Great Grannies, Greek gripes and Gregory Grant</td>\n",
              "      <td>A virtual life</td>\n",
              "      <td>The kiss of death</td>\n",
              "      <td>'Dear Dilys, are you really this selfish?'</td>\n",
              "    </tr>\n",
              "    <tr>\n",
              "      <th>17</th>\n",
              "      <td>2000-01-27</td>\n",
              "      <td>1</td>\n",
              "      <td>Lancashire target Tendulkar the Tyke</td>\n",
              "      <td>Early shock for England</td>\n",
              "      <td>Atherton in dock for county attack</td>\n",
              "      <td>Valiant England come up short by one run</td>\n",
              "      <td>Tranmere make final offer</td>\n",
              "      <td>Liverpool ready to gamble with Ravanelli</td>\n",
              "      <td>Hillsborough eyes new technology</td>\n",
              "      <td>Flying Scots are chuffed</td>\n",
              "      <td>...</td>\n",
              "      <td>State of the union address</td>\n",
              "      <td>Doctors of death</td>\n",
              "      <td>M&amp;S hopes for brighter future by ditching dowd...</td>\n",
              "      <td>Straw extends race bill</td>\n",
              "      <td>Pathologist's doubts on 'suicide' hanging</td>\n",
              "      <td>Scurrilous jigsaws, Special cakes and Squashed...</td>\n",
              "      <td>Web versus high street</td>\n",
              "      <td>Guardian group gets a new chairman</td>\n",
              "      <td>How much can you pay for . . .</td>\n",
              "      <td>Buy now, regret later?</td>\n",
              "    </tr>\n",
              "    <tr>\n",
              "      <th>18</th>\n",
              "      <td>2000-01-28</td>\n",
              "      <td>0</td>\n",
              "      <td>Carlton ratings rise at new midlands station</td>\n",
              "      <td>United shake up the young brigade</td>\n",
              "      <td>Svensson departs as Palace pay their way</td>\n",
              "      <td>Running scared of bad company</td>\n",
              "      <td>Bradford back for Stan</td>\n",
              "      <td>Robson can save his scalp at Old Trafford</td>\n",
              "      <td>Dismal England but that is no surprise</td>\n",
              "      <td>Abject England fold without a whimper</td>\n",
              "      <td>...</td>\n",
              "      <td>Mr Straw sees the light</td>\n",
              "      <td>Town denies racism amid media scrutiny of hang...</td>\n",
              "      <td>Yard race unit aids Telford hangings inquiry</td>\n",
              "      <td>Beowulf bowls out Harry Potter for second award</td>\n",
              "      <td>Joining the dots</td>\n",
              "      <td>Anything goes</td>\n",
              "      <td>Most wanted:  boo.com sale</td>\n",
              "      <td>Most everywhere:  karma beads</td>\n",
              "      <td>Diplomacy for democracy</td>\n",
              "      <td>Diplomacy for democracy</td>\n",
              "    </tr>\n",
              "    <tr>\n",
              "      <th>19</th>\n",
              "      <td>2000-01-31</td>\n",
              "      <td>0</td>\n",
              "      <td>Nationwide Third Division</td>\n",
              "      <td>Nationwide Second Division</td>\n",
              "      <td>Nationwide First Division</td>\n",
              "      <td>Birmingham three face Italian charges</td>\n",
              "      <td>Rangers make light of perilous defence</td>\n",
              "      <td>Computer problem delays Endeavour's launch</td>\n",
              "      <td>Nasa clears Endeavour's engines for launch</td>\n",
              "      <td>Inquiry and helpline for Shipman victims</td>\n",
              "      <td>...</td>\n",
              "      <td>Shipman found guilty of murdering 15 patients</td>\n",
              "      <td>New party threatens Mugabe</td>\n",
              "      <td>Two views from Harare</td>\n",
              "      <td>Cretins, Blabbermouths and John Gregory</td>\n",
              "      <td>Shipman was sacked for drug abuse</td>\n",
              "      <td>'A tragic and deeply disturbing case'</td>\n",
              "      <td>The role of toxicology</td>\n",
              "      <td>Inside Preston crown court</td>\n",
              "      <td>Denial upon falsehood upon deceit</td>\n",
              "      <td>Irving not anti-semitic, claims US professor</td>\n",
              "    </tr>\n",
              "  </tbody>\n",
              "</table>\n",
              "<p>20 rows × 27 columns</p>\n",
              "</div>\n",
              "      <button class=\"colab-df-convert\" onclick=\"convertToInteractive('df-7ef3ac6e-0546-4adc-b084-e8a9ce0c432b')\"\n",
              "              title=\"Convert this dataframe to an interactive table.\"\n",
              "              style=\"display:none;\">\n",
              "        \n",
              "  <svg xmlns=\"http://www.w3.org/2000/svg\" height=\"24px\"viewBox=\"0 0 24 24\"\n",
              "       width=\"24px\">\n",
              "    <path d=\"M0 0h24v24H0V0z\" fill=\"none\"/>\n",
              "    <path d=\"M18.56 5.44l.94 2.06.94-2.06 2.06-.94-2.06-.94-.94-2.06-.94 2.06-2.06.94zm-11 1L8.5 8.5l.94-2.06 2.06-.94-2.06-.94L8.5 2.5l-.94 2.06-2.06.94zm10 10l.94 2.06.94-2.06 2.06-.94-2.06-.94-.94-2.06-.94 2.06-2.06.94z\"/><path d=\"M17.41 7.96l-1.37-1.37c-.4-.4-.92-.59-1.43-.59-.52 0-1.04.2-1.43.59L10.3 9.45l-7.72 7.72c-.78.78-.78 2.05 0 2.83L4 21.41c.39.39.9.59 1.41.59.51 0 1.02-.2 1.41-.59l7.78-7.78 2.81-2.81c.8-.78.8-2.07 0-2.86zM5.41 20L4 18.59l7.72-7.72 1.47 1.35L5.41 20z\"/>\n",
              "  </svg>\n",
              "      </button>\n",
              "      \n",
              "  <style>\n",
              "    .colab-df-container {\n",
              "      display:flex;\n",
              "      flex-wrap:wrap;\n",
              "      gap: 12px;\n",
              "    }\n",
              "\n",
              "    .colab-df-convert {\n",
              "      background-color: #E8F0FE;\n",
              "      border: none;\n",
              "      border-radius: 50%;\n",
              "      cursor: pointer;\n",
              "      display: none;\n",
              "      fill: #1967D2;\n",
              "      height: 32px;\n",
              "      padding: 0 0 0 0;\n",
              "      width: 32px;\n",
              "    }\n",
              "\n",
              "    .colab-df-convert:hover {\n",
              "      background-color: #E2EBFA;\n",
              "      box-shadow: 0px 1px 2px rgba(60, 64, 67, 0.3), 0px 1px 3px 1px rgba(60, 64, 67, 0.15);\n",
              "      fill: #174EA6;\n",
              "    }\n",
              "\n",
              "    [theme=dark] .colab-df-convert {\n",
              "      background-color: #3B4455;\n",
              "      fill: #D2E3FC;\n",
              "    }\n",
              "\n",
              "    [theme=dark] .colab-df-convert:hover {\n",
              "      background-color: #434B5C;\n",
              "      box-shadow: 0px 1px 3px 1px rgba(0, 0, 0, 0.15);\n",
              "      filter: drop-shadow(0px 1px 2px rgba(0, 0, 0, 0.3));\n",
              "      fill: #FFFFFF;\n",
              "    }\n",
              "  </style>\n",
              "\n",
              "      <script>\n",
              "        const buttonEl =\n",
              "          document.querySelector('#df-7ef3ac6e-0546-4adc-b084-e8a9ce0c432b button.colab-df-convert');\n",
              "        buttonEl.style.display =\n",
              "          google.colab.kernel.accessAllowed ? 'block' : 'none';\n",
              "\n",
              "        async function convertToInteractive(key) {\n",
              "          const element = document.querySelector('#df-7ef3ac6e-0546-4adc-b084-e8a9ce0c432b');\n",
              "          const dataTable =\n",
              "            await google.colab.kernel.invokeFunction('convertToInteractive',\n",
              "                                                     [key], {});\n",
              "          if (!dataTable) return;\n",
              "\n",
              "          const docLinkHtml = 'Like what you see? Visit the ' +\n",
              "            '<a target=\"_blank\" href=https://colab.research.google.com/notebooks/data_table.ipynb>data table notebook</a>'\n",
              "            + ' to learn more about interactive tables.';\n",
              "          element.innerHTML = '';\n",
              "          dataTable['output_type'] = 'display_data';\n",
              "          await google.colab.output.renderOutput(dataTable, element);\n",
              "          const docLink = document.createElement('div');\n",
              "          docLink.innerHTML = docLinkHtml;\n",
              "          element.appendChild(docLink);\n",
              "        }\n",
              "      </script>\n",
              "    </div>\n",
              "  </div>\n",
              "  "
            ]
          },
          "metadata": {},
          "execution_count": 3
        }
      ],
      "source": [
        "import pandas as pd\n",
        "df=pd.read_csv('/content/drive/MyDrive/BI/Data.csv', encoding = \"ISO-8859-1\")\n",
        "df.head(20)"
      ]
    },
    {
      "cell_type": "code",
      "execution_count": null,
      "metadata": {
        "colab": {
          "base_uri": "https://localhost:8080/"
        },
        "id": "n8tepFIzQwy6",
        "outputId": "68bc9e05-7993-4dc5-fc26-7ece5e79d37c"
      },
      "outputs": [
        {
          "output_type": "execute_result",
          "data": {
            "text/plain": [
              "(4101, 27)"
            ]
          },
          "metadata": {},
          "execution_count": 4
        }
      ],
      "source": [
        "df.shape #4101 dates"
      ]
    },
    {
      "cell_type": "code",
      "execution_count": null,
      "metadata": {
        "id": "w8pma23GdBbz"
      },
      "outputs": [],
      "source": [
        "train = df[df['Date'] < '20150101']\n",
        "test = df[df['Date'] > '20141231']"
      ]
    },
    {
      "cell_type": "code",
      "execution_count": null,
      "metadata": {
        "colab": {
          "base_uri": "https://localhost:8080/",
          "height": 387
        },
        "id": "FuX7bcWxQ99x",
        "outputId": "46af9c18-c549-4262-f367-6da7069f6256"
      },
      "outputs": [
        {
          "output_type": "stream",
          "name": "stderr",
          "text": [
            "/usr/local/lib/python3.7/dist-packages/seaborn/_decorators.py:43: FutureWarning: Pass the following variable as a keyword arg: x. From version 0.12, the only valid positional argument will be `data`, and passing other arguments without an explicit keyword will result in an error or misinterpretation.\n",
            "  FutureWarning\n"
          ]
        },
        {
          "output_type": "execute_result",
          "data": {
            "text/plain": [
              "Text(0.5, 1.0, 'Class Distributions \\n (0: stocks drop || 1: stocks rise)')"
            ]
          },
          "metadata": {},
          "execution_count": 6
        },
        {
          "output_type": "display_data",
          "data": {
            "text/plain": [
              "<Figure size 432x288 with 1 Axes>"
            ],
            "image/png": "[encoded data removed]"
          },
          "metadata": {
            "needs_background": "light"
          }
        }
      ],
      "source": [
        "import matplotlib.pyplot as plt\n",
        "import seaborn as sns\n",
        "plt.figure(figsize=(6,4))\n",
        "colors = [\"0\", \"1\"]\n",
        "sns.countplot('Label', data=df, palette=colors)\n",
        "plt.title('Class Distributions \\n (0: stocks drop || 1: stocks rise)', fontsize=14)"
      ]
    },
    {
      "cell_type": "code",
      "execution_count": null,
      "metadata": {
        "colab": {
          "base_uri": "https://localhost:8080/",
          "height": 294
        },
        "id": "gS1QXTJ1RdhC",
        "outputId": "73b31a60-5503-4f1c-899d-9d6bce01b7c1"
      },
      "outputs": [
        {
          "output_type": "execute_result",
          "data": {
            "text/plain": [
              "<matplotlib.axes._subplots.AxesSubplot at 0x7f7816152c90>"
            ]
          },
          "metadata": {},
          "execution_count": 7
        },
        {
          "output_type": "display_data",
          "data": {
            "text/plain": [
              "<Figure size 432x288 with 1 Axes>"
            ],
            "image/png": "[encoded data removed]"
          },
          "metadata": {
            "needs_background": "light"
          }
        }
      ],
      "source": [
        "df['Label'].value_counts().reset_index().plot(kind='bar', x='index', y='Label', color='blue')"
      ]
    },
    {
      "cell_type": "markdown",
      "source": [
        "from the above graph we can say that dataset is quite balanced"
      ],
      "metadata": {
        "id": "7KP2DhG8CW28"
      }
    },
    {
      "cell_type": "markdown",
      "metadata": {
        "id": "asn0znZA6yxq"
      },
      "source": [
        "### Removing punctuations"
      ]
    },
    {
      "cell_type": "code",
      "execution_count": null,
      "metadata": {
        "id": "pV1xkR_UdKMG"
      },
      "outputs": [],
      "source": [
        "\n",
        "data=train.iloc[:,2:27]\n",
        "data.replace(\"[^a-zA-Z]\",\" \",regex=True, inplace=True)\n",
        "\n",
        "data_tst=test.iloc[:,2:27]\n",
        "data_tst.replace(\"[^a-zA-Z]\",\" \",regex=True, inplace=True)\n",
        "\n"
      ]
    },
    {
      "cell_type": "markdown",
      "metadata": {
        "id": "x7b_9nyY6782"
      },
      "source": [
        "### Renaming column names for ease of access"
      ]
    },
    {
      "cell_type": "code",
      "execution_count": null,
      "metadata": {
        "colab": {
          "base_uri": "https://localhost:8080/",
          "height": 820
        },
        "id": "gKZBTjFK6SFl",
        "outputId": "e93e04a1-3cc7-40a1-e9d9-e3ab2bd559e9"
      },
      "outputs": [
        {
          "output_type": "execute_result",
          "data": {
            "text/plain": [
              "                                                   0  \\\n",
              "0  A  hindrance to operations   extracts from the...   \n",
              "1                                          Scorecard   \n",
              "2                  Coventry caught on counter by Flo   \n",
              "3                      Pilgrim knows how to progress   \n",
              "4                               Hitches and Horlocks   \n",
              "\n",
              "                                    1  \\\n",
              "0                           Scorecard   \n",
              "1                 The best lake scene   \n",
              "2  United s rivals on the road to Rio   \n",
              "3                 Thatcher facing ban   \n",
              "4      Beckham off but United survive   \n",
              "\n",
              "                                               2  \\\n",
              "0                Hughes  instant hit buoys Blues   \n",
              "1                  Leader  German sleaze inquiry   \n",
              "2  Thatcher issues defence before trial by video   \n",
              "3        McIlroy calls for Irish fighting spirit   \n",
              "4                        Breast cancer screening   \n",
              "\n",
              "                                               3  \\\n",
              "0       Jack gets his skates on at ice cold Alex   \n",
              "1                                  Cheerio  boyo   \n",
              "2  Police help Smith lay down the law at Everton   \n",
              "3                Leicester bin stadium blueprint   \n",
              "4                                    Alan Parker   \n",
              "\n",
              "                                             4  \\\n",
              "0       Chaos as Maracana builds up for United   \n",
              "1                     The main recommendations   \n",
              "2  Tale of Trautmann bears two more retellings   \n",
              "3               United braced for Mexican wave   \n",
              "4      Guardian readers  are you all whingers    \n",
              "\n",
              "                                                   5  \\\n",
              "0  Depleted Leicester prevail as Elliott spoils E...   \n",
              "1                             Has Cubie killed fees    \n",
              "2                                England on the rack   \n",
              "3  Auntie back in fashion  even if the dress look...   \n",
              "4                                   Hollywood Beyond   \n",
              "\n",
              "                                                 6  \\\n",
              "0                 Hungry Spurs sense rich pickings   \n",
              "1                           Has Cubie killed fees    \n",
              "2  Pakistan retaliate with call for video of Walsh   \n",
              "3                    Shoaib appeal goes to the top   \n",
              "4                               Ashes and diamonds   \n",
              "\n",
              "                                                   7  \\\n",
              "0                  Gunners so wide of an easy target   \n",
              "1                             Has Cubie killed fees    \n",
              "2               Cullinan continues his Cape monopoly   \n",
              "3  Hussain hurt by  shambles  but lays blame on e...   \n",
              "4                   Whingers   a formidable minority   \n",
              "\n",
              "                                                   8  \\\n",
              "0      Derby raise a glass to Strupar s debut double   \n",
              "1  Hopkins  furious  at Foster s lack of Hannibal...   \n",
              "2             McGrath puts India out of their misery   \n",
              "3                      England s decade of disasters   \n",
              "4                             Alan Parker   part two   \n",
              "\n",
              "                                          9  ...  \\\n",
              "0  Southgate strikes  Leeds pay the penalty  ...   \n",
              "1                    Has Cubie killed fees   ...   \n",
              "2            Blair Witch bandwagon rolls on  ...   \n",
              "3      Revenge is sweet for jubilant Cronje  ...   \n",
              "4                 Thuggery  Toxins and Ties  ...   \n",
              "\n",
              "                                                  15  \\\n",
              "0           Flintoff injury piles on woe for England   \n",
              "1                               On the critical list   \n",
              "2                        South Melbourne  Australia    \n",
              "3  Putin admits Yeltsin quit to give him a head s...   \n",
              "4                             Most everywhere   UDIs   \n",
              "\n",
              "                                                  16  \\\n",
              "0  Hunters threaten Jospin with new battle of the...   \n",
              "1                          The timing of their lives   \n",
              "2                                    Necaxa  Mexico    \n",
              "3         BBC worst hit as digital TV begins to bite   \n",
              "4                       Most wanted   Chloe lunettes   \n",
              "\n",
              "                                               17  \\\n",
              "0             Kohl s successor drawn into scandal   \n",
              "1                                     Dear doctor   \n",
              "2                             Real Madrid  Spain    \n",
              "3                     How much can you pay for      \n",
              "4  Return of the cane  completely off the agenda    \n",
              "\n",
              "                                                  18  \\\n",
              "0               The difference between men and women   \n",
              "1  Irish court halts IRA man s extradition to Nor...   \n",
              "2                          Raja Casablanca  Morocco    \n",
              "3                                 Christmas glitches   \n",
              "4                   From Sleepy Hollow to Greeneland   \n",
              "\n",
              "                                                  19  \\\n",
              "0                Sara Denver  nurse turned solicitor   \n",
              "1  Burundi peace initiative fades after rebels re...   \n",
              "2                               Corinthians  Brazil    \n",
              "3  Upending a table  Chopping a line and Scoring ...   \n",
              "4              Blunkett outlines vision for over   s   \n",
              "\n",
              "                                                  20  \\\n",
              "0     Diana s landmine crusade put Tories in a panic   \n",
              "1               PE points the way forward to the ECB   \n",
              "2                                 Tony s pet project   \n",
              "3   Scientific evidence  unreliable   defence claims   \n",
              "4  Embattled Dobson attacks  play now  pay later ...   \n",
              "\n",
              "                                                  21  \\\n",
              "0  Yeltsin s resignation caught opposition flat f...   \n",
              "1  Campaigners keep up pressure on Nazi war crime...   \n",
              "2                            Al Nassr  Saudi Arabia    \n",
              "3     Fusco wins judicial review in extradition case   \n",
              "4                                  Doom and the Dome   \n",
              "\n",
              "                                22  \\\n",
              "0                 Russian roulette   \n",
              "1                   Jane Ratcliffe   \n",
              "2                Ideal Holmes show   \n",
              "3    Rebels thwart Russian advance   \n",
              "4  What is the north south divide    \n",
              "\n",
              "                                                  23  \\\n",
              "0                                           Sold out   \n",
              "1  Yet more things you wouldn t know without the ...   \n",
              "2               Pinochet leaves hospital after tests   \n",
              "3               Blair orders shake up of failing NHS   \n",
              "4                          Aitken released from jail   \n",
              "\n",
              "                             24  \n",
              "0            Recovering a title  \n",
              "1  Millennium bug fails to bite  \n",
              "2                  Useful links  \n",
              "3   Lessons of law s hard heart  \n",
              "4                    Gone aloft  \n",
              "\n",
              "[5 rows x 25 columns]"
            ],
            "text/html": [
              "\n",
              "  <div id=\"df-7570c7af-885f-4533-bc11-085650bef0d8\">\n",
              "    <div class=\"colab-df-container\">\n",
              "      <div>\n",
              "<style scoped>\n",
              "    .dataframe tbody tr th:only-of-type {\n",
              "        vertical-align: middle;\n",
              "    }\n",
              "\n",
              "    .dataframe tbody tr th {\n",
              "        vertical-align: top;\n",
              "    }\n",
              "\n",
              "    .dataframe thead th {\n",
              "        text-align: right;\n",
              "    }\n",
              "</style>\n",
              "<table border=\"1\" class=\"dataframe\">\n",
              "  <thead>\n",
              "    <tr style=\"text-align: right;\">\n",
              "      <th></th>\n",
              "      <th>0</th>\n",
              "      <th>1</th>\n",
              "      <th>2</th>\n",
              "      <th>3</th>\n",
              "      <th>4</th>\n",
              "      <th>5</th>\n",
              "      <th>6</th>\n",
              "      <th>7</th>\n",
              "      <th>8</th>\n",
              "      <th>9</th>\n",
              "      <th>...</th>\n",
              "      <th>15</th>\n",
              "      <th>16</th>\n",
              "      <th>17</th>\n",
              "      <th>18</th>\n",
              "      <th>19</th>\n",
              "      <th>20</th>\n",
              "      <th>21</th>\n",
              "      <th>22</th>\n",
              "      <th>23</th>\n",
              "      <th>24</th>\n",
              "    </tr>\n",
              "  </thead>\n",
              "  <tbody>\n",
              "    <tr>\n",
              "      <th>0</th>\n",
              "      <td>A  hindrance to operations   extracts from the...</td>\n",
              "      <td>Scorecard</td>\n",
              "      <td>Hughes  instant hit buoys Blues</td>\n",
              "      <td>Jack gets his skates on at ice cold Alex</td>\n",
              "      <td>Chaos as Maracana builds up for United</td>\n",
              "      <td>Depleted Leicester prevail as Elliott spoils E...</td>\n",
              "      <td>Hungry Spurs sense rich pickings</td>\n",
              "      <td>Gunners so wide of an easy target</td>\n",
              "      <td>Derby raise a glass to Strupar s debut double</td>\n",
              "      <td>Southgate strikes  Leeds pay the penalty</td>\n",
              "      <td>...</td>\n",
              "      <td>Flintoff injury piles on woe for England</td>\n",
              "      <td>Hunters threaten Jospin with new battle of the...</td>\n",
              "      <td>Kohl s successor drawn into scandal</td>\n",
              "      <td>The difference between men and women</td>\n",
              "      <td>Sara Denver  nurse turned solicitor</td>\n",
              "      <td>Diana s landmine crusade put Tories in a panic</td>\n",
              "      <td>Yeltsin s resignation caught opposition flat f...</td>\n",
              "      <td>Russian roulette</td>\n",
              "      <td>Sold out</td>\n",
              "      <td>Recovering a title</td>\n",
              "    </tr>\n",
              "    <tr>\n",
              "      <th>1</th>\n",
              "      <td>Scorecard</td>\n",
              "      <td>The best lake scene</td>\n",
              "      <td>Leader  German sleaze inquiry</td>\n",
              "      <td>Cheerio  boyo</td>\n",
              "      <td>The main recommendations</td>\n",
              "      <td>Has Cubie killed fees</td>\n",
              "      <td>Has Cubie killed fees</td>\n",
              "      <td>Has Cubie killed fees</td>\n",
              "      <td>Hopkins  furious  at Foster s lack of Hannibal...</td>\n",
              "      <td>Has Cubie killed fees</td>\n",
              "      <td>...</td>\n",
              "      <td>On the critical list</td>\n",
              "      <td>The timing of their lives</td>\n",
              "      <td>Dear doctor</td>\n",
              "      <td>Irish court halts IRA man s extradition to Nor...</td>\n",
              "      <td>Burundi peace initiative fades after rebels re...</td>\n",
              "      <td>PE points the way forward to the ECB</td>\n",
              "      <td>Campaigners keep up pressure on Nazi war crime...</td>\n",
              "      <td>Jane Ratcliffe</td>\n",
              "      <td>Yet more things you wouldn t know without the ...</td>\n",
              "      <td>Millennium bug fails to bite</td>\n",
              "    </tr>\n",
              "    <tr>\n",
              "      <th>2</th>\n",
              "      <td>Coventry caught on counter by Flo</td>\n",
              "      <td>United s rivals on the road to Rio</td>\n",
              "      <td>Thatcher issues defence before trial by video</td>\n",
              "      <td>Police help Smith lay down the law at Everton</td>\n",
              "      <td>Tale of Trautmann bears two more retellings</td>\n",
              "      <td>England on the rack</td>\n",
              "      <td>Pakistan retaliate with call for video of Walsh</td>\n",
              "      <td>Cullinan continues his Cape monopoly</td>\n",
              "      <td>McGrath puts India out of their misery</td>\n",
              "      <td>Blair Witch bandwagon rolls on</td>\n",
              "      <td>...</td>\n",
              "      <td>South Melbourne  Australia</td>\n",
              "      <td>Necaxa  Mexico</td>\n",
              "      <td>Real Madrid  Spain</td>\n",
              "      <td>Raja Casablanca  Morocco</td>\n",
              "      <td>Corinthians  Brazil</td>\n",
              "      <td>Tony s pet project</td>\n",
              "      <td>Al Nassr  Saudi Arabia</td>\n",
              "      <td>Ideal Holmes show</td>\n",
              "      <td>Pinochet leaves hospital after tests</td>\n",
              "      <td>Useful links</td>\n",
              "    </tr>\n",
              "    <tr>\n",
              "      <th>3</th>\n",
              "      <td>Pilgrim knows how to progress</td>\n",
              "      <td>Thatcher facing ban</td>\n",
              "      <td>McIlroy calls for Irish fighting spirit</td>\n",
              "      <td>Leicester bin stadium blueprint</td>\n",
              "      <td>United braced for Mexican wave</td>\n",
              "      <td>Auntie back in fashion  even if the dress look...</td>\n",
              "      <td>Shoaib appeal goes to the top</td>\n",
              "      <td>Hussain hurt by  shambles  but lays blame on e...</td>\n",
              "      <td>England s decade of disasters</td>\n",
              "      <td>Revenge is sweet for jubilant Cronje</td>\n",
              "      <td>...</td>\n",
              "      <td>Putin admits Yeltsin quit to give him a head s...</td>\n",
              "      <td>BBC worst hit as digital TV begins to bite</td>\n",
              "      <td>How much can you pay for</td>\n",
              "      <td>Christmas glitches</td>\n",
              "      <td>Upending a table  Chopping a line and Scoring ...</td>\n",
              "      <td>Scientific evidence  unreliable   defence claims</td>\n",
              "      <td>Fusco wins judicial review in extradition case</td>\n",
              "      <td>Rebels thwart Russian advance</td>\n",
              "      <td>Blair orders shake up of failing NHS</td>\n",
              "      <td>Lessons of law s hard heart</td>\n",
              "    </tr>\n",
              "    <tr>\n",
              "      <th>4</th>\n",
              "      <td>Hitches and Horlocks</td>\n",
              "      <td>Beckham off but United survive</td>\n",
              "      <td>Breast cancer screening</td>\n",
              "      <td>Alan Parker</td>\n",
              "      <td>Guardian readers  are you all whingers</td>\n",
              "      <td>Hollywood Beyond</td>\n",
              "      <td>Ashes and diamonds</td>\n",
              "      <td>Whingers   a formidable minority</td>\n",
              "      <td>Alan Parker   part two</td>\n",
              "      <td>Thuggery  Toxins and Ties</td>\n",
              "      <td>...</td>\n",
              "      <td>Most everywhere   UDIs</td>\n",
              "      <td>Most wanted   Chloe lunettes</td>\n",
              "      <td>Return of the cane  completely off the agenda</td>\n",
              "      <td>From Sleepy Hollow to Greeneland</td>\n",
              "      <td>Blunkett outlines vision for over   s</td>\n",
              "      <td>Embattled Dobson attacks  play now  pay later ...</td>\n",
              "      <td>Doom and the Dome</td>\n",
              "      <td>What is the north south divide</td>\n",
              "      <td>Aitken released from jail</td>\n",
              "      <td>Gone aloft</td>\n",
              "    </tr>\n",
              "  </tbody>\n",
              "</table>\n",
              "<p>5 rows × 25 columns</p>\n",
              "</div>\n",
              "      <button class=\"colab-df-convert\" onclick=\"convertToInteractive('df-7570c7af-885f-4533-bc11-085650bef0d8')\"\n",
              "              title=\"Convert this dataframe to an interactive table.\"\n",
              "              style=\"display:none;\">\n",
              "        \n",
              "  <svg xmlns=\"http://www.w3.org/2000/svg\" height=\"24px\"viewBox=\"0 0 24 24\"\n",
              "       width=\"24px\">\n",
              "    <path d=\"M0 0h24v24H0V0z\" fill=\"none\"/>\n",
              "    <path d=\"M18.56 5.44l.94 2.06.94-2.06 2.06-.94-2.06-.94-.94-2.06-.94 2.06-2.06.94zm-11 1L8.5 8.5l.94-2.06 2.06-.94-2.06-.94L8.5 2.5l-.94 2.06-2.06.94zm10 10l.94 2.06.94-2.06 2.06-.94-2.06-.94-.94-2.06-.94 2.06-2.06.94z\"/><path d=\"M17.41 7.96l-1.37-1.37c-.4-.4-.92-.59-1.43-.59-.52 0-1.04.2-1.43.59L10.3 9.45l-7.72 7.72c-.78.78-.78 2.05 0 2.83L4 21.41c.39.39.9.59 1.41.59.51 0 1.02-.2 1.41-.59l7.78-7.78 2.81-2.81c.8-.78.8-2.07 0-2.86zM5.41 20L4 18.59l7.72-7.72 1.47 1.35L5.41 20z\"/>\n",
              "  </svg>\n",
              "      </button>\n",
              "      \n",
              "  <style>\n",
              "    .colab-df-container {\n",
              "      display:flex;\n",
              "      flex-wrap:wrap;\n",
              "      gap: 12px;\n",
              "    }\n",
              "\n",
              "    .colab-df-convert {\n",
              "      background-color: #E8F0FE;\n",
              "      border: none;\n",
              "      border-radius: 50%;\n",
              "      cursor: pointer;\n",
              "      display: none;\n",
              "      fill: #1967D2;\n",
              "      height: 32px;\n",
              "      padding: 0 0 0 0;\n",
              "      width: 32px;\n",
              "    }\n",
              "\n",
              "    .colab-df-convert:hover {\n",
              "      background-color: #E2EBFA;\n",
              "      box-shadow: 0px 1px 2px rgba(60, 64, 67, 0.3), 0px 1px 3px 1px rgba(60, 64, 67, 0.15);\n",
              "      fill: #174EA6;\n",
              "    }\n",
              "\n",
              "    [theme=dark] .colab-df-convert {\n",
              "      background-color: #3B4455;\n",
              "      fill: #D2E3FC;\n",
              "    }\n",
              "\n",
              "    [theme=dark] .colab-df-convert:hover {\n",
              "      background-color: #434B5C;\n",
              "      box-shadow: 0px 1px 3px 1px rgba(0, 0, 0, 0.15);\n",
              "      filter: drop-shadow(0px 1px 2px rgba(0, 0, 0, 0.3));\n",
              "      fill: #FFFFFF;\n",
              "    }\n",
              "  </style>\n",
              "\n",
              "      <script>\n",
              "        const buttonEl =\n",
              "          document.querySelector('#df-7570c7af-885f-4533-bc11-085650bef0d8 button.colab-df-convert');\n",
              "        buttonEl.style.display =\n",
              "          google.colab.kernel.accessAllowed ? 'block' : 'none';\n",
              "\n",
              "        async function convertToInteractive(key) {\n",
              "          const element = document.querySelector('#df-7570c7af-885f-4533-bc11-085650bef0d8');\n",
              "          const dataTable =\n",
              "            await google.colab.kernel.invokeFunction('convertToInteractive',\n",
              "                                                     [key], {});\n",
              "          if (!dataTable) return;\n",
              "\n",
              "          const docLinkHtml = 'Like what you see? Visit the ' +\n",
              "            '<a target=\"_blank\" href=https://colab.research.google.com/notebooks/data_table.ipynb>data table notebook</a>'\n",
              "            + ' to learn more about interactive tables.';\n",
              "          element.innerHTML = '';\n",
              "          dataTable['output_type'] = 'display_data';\n",
              "          await google.colab.output.renderOutput(dataTable, element);\n",
              "          const docLink = document.createElement('div');\n",
              "          docLink.innerHTML = docLinkHtml;\n",
              "          element.appendChild(docLink);\n",
              "        }\n",
              "      </script>\n",
              "    </div>\n",
              "  </div>\n",
              "  "
            ]
          },
          "metadata": {},
          "execution_count": 10
        }
      ],
      "source": [
        "\n",
        "list1= [i for i in range(25)]\n",
        "new_Index=[str(i) for i in list1]\n",
        "data.columns= new_Index\n",
        "data.head(5)"
      ]
    },
    {
      "cell_type": "code",
      "source": [
        "list2= [i for i in range(25)]\n",
        "new_Index2=[str(i) for i in list2]\n",
        "data_tst.columns= new_Index2\n",
        "data_tst.head(5)\n",
        "\n",
        "for index in new_Index2:\n",
        "    data_tst[index]=data_tst[index].str.lower()\n",
        "data.head(1)\n",
        "\n",
        "' '.join(str(x) for x in data_tst.iloc[1,0:25])\n",
        "\n",
        "headlines_tst = []\n",
        "for row in range(0,len(data_tst.index)):\n",
        "    headlines_tst.append(' '.join(str(x) for x in data_tst.iloc[row,0:25]))\n",
        "\n",
        "headlines_tst[0]\n",
        "len(headlines_tst)\n",
        "#len(headlines)"
      ],
      "metadata": {
        "colab": {
          "base_uri": "https://localhost:8080/"
        },
        "id": "gZJvhzXCxG9a",
        "outputId": "27a6d4e0-5e73-4324-ef7d-eb33b6acd238"
      },
      "execution_count": null,
      "outputs": [
        {
          "output_type": "execute_result",
          "data": {
            "text/plain": [
              "378"
            ]
          },
          "metadata": {},
          "execution_count": 44
        }
      ]
    },
    {
      "cell_type": "markdown",
      "metadata": {
        "id": "-5IGAqgg7CCc"
      },
      "source": [
        "### Convertng headlines to lower case"
      ]
    },
    {
      "cell_type": "code",
      "execution_count": null,
      "metadata": {
        "colab": {
          "base_uri": "https://localhost:8080/",
          "height": 296
        },
        "id": "AnfrnAMAdPah",
        "outputId": "7bb0bb06-ba22-4b8a-c5e2-d5eaee2dd096"
      },
      "outputs": [
        {
          "output_type": "execute_result",
          "data": {
            "text/plain": [
              "                                                   0          1  \\\n",
              "0  a  hindrance to operations   extracts from the...  scorecard   \n",
              "\n",
              "                                 2                                         3  \\\n",
              "0  hughes  instant hit buoys blues  jack gets his skates on at ice cold alex   \n",
              "\n",
              "                                        4  \\\n",
              "0  chaos as maracana builds up for united   \n",
              "\n",
              "                                                   5  \\\n",
              "0  depleted leicester prevail as elliott spoils e...   \n",
              "\n",
              "                                  6                                  7  \\\n",
              "0  hungry spurs sense rich pickings  gunners so wide of an easy target   \n",
              "\n",
              "                                               8  \\\n",
              "0  derby raise a glass to strupar s debut double   \n",
              "\n",
              "                                          9  ...  \\\n",
              "0  southgate strikes  leeds pay the penalty  ...   \n",
              "\n",
              "                                         15  \\\n",
              "0  flintoff injury piles on woe for england   \n",
              "\n",
              "                                                  16  \\\n",
              "0  hunters threaten jospin with new battle of the...   \n",
              "\n",
              "                                    17                                    18  \\\n",
              "0  kohl s successor drawn into scandal  the difference between men and women   \n",
              "\n",
              "                                    19  \\\n",
              "0  sara denver  nurse turned solicitor   \n",
              "\n",
              "                                               20  \\\n",
              "0  diana s landmine crusade put tories in a panic   \n",
              "\n",
              "                                                  21                22  \\\n",
              "0  yeltsin s resignation caught opposition flat f...  russian roulette   \n",
              "\n",
              "         23                  24  \n",
              "0  sold out  recovering a title  \n",
              "\n",
              "[1 rows x 25 columns]"
            ],
            "text/html": [
              "\n",
              "  <div id=\"df-354e75ad-17e6-46d5-81a1-cc1e6456f943\">\n",
              "    <div class=\"colab-df-container\">\n",
              "      <div>\n",
              "<style scoped>\n",
              "    .dataframe tbody tr th:only-of-type {\n",
              "        vertical-align: middle;\n",
              "    }\n",
              "\n",
              "    .dataframe tbody tr th {\n",
              "        vertical-align: top;\n",
              "    }\n",
              "\n",
              "    .dataframe thead th {\n",
              "        text-align: right;\n",
              "    }\n",
              "</style>\n",
              "<table border=\"1\" class=\"dataframe\">\n",
              "  <thead>\n",
              "    <tr style=\"text-align: right;\">\n",
              "      <th></th>\n",
              "      <th>0</th>\n",
              "      <th>1</th>\n",
              "      <th>2</th>\n",
              "      <th>3</th>\n",
              "      <th>4</th>\n",
              "      <th>5</th>\n",
              "      <th>6</th>\n",
              "      <th>7</th>\n",
              "      <th>8</th>\n",
              "      <th>9</th>\n",
              "      <th>...</th>\n",
              "      <th>15</th>\n",
              "      <th>16</th>\n",
              "      <th>17</th>\n",
              "      <th>18</th>\n",
              "      <th>19</th>\n",
              "      <th>20</th>\n",
              "      <th>21</th>\n",
              "      <th>22</th>\n",
              "      <th>23</th>\n",
              "      <th>24</th>\n",
              "    </tr>\n",
              "  </thead>\n",
              "  <tbody>\n",
              "    <tr>\n",
              "      <th>0</th>\n",
              "      <td>a  hindrance to operations   extracts from the...</td>\n",
              "      <td>scorecard</td>\n",
              "      <td>hughes  instant hit buoys blues</td>\n",
              "      <td>jack gets his skates on at ice cold alex</td>\n",
              "      <td>chaos as maracana builds up for united</td>\n",
              "      <td>depleted leicester prevail as elliott spoils e...</td>\n",
              "      <td>hungry spurs sense rich pickings</td>\n",
              "      <td>gunners so wide of an easy target</td>\n",
              "      <td>derby raise a glass to strupar s debut double</td>\n",
              "      <td>southgate strikes  leeds pay the penalty</td>\n",
              "      <td>...</td>\n",
              "      <td>flintoff injury piles on woe for england</td>\n",
              "      <td>hunters threaten jospin with new battle of the...</td>\n",
              "      <td>kohl s successor drawn into scandal</td>\n",
              "      <td>the difference between men and women</td>\n",
              "      <td>sara denver  nurse turned solicitor</td>\n",
              "      <td>diana s landmine crusade put tories in a panic</td>\n",
              "      <td>yeltsin s resignation caught opposition flat f...</td>\n",
              "      <td>russian roulette</td>\n",
              "      <td>sold out</td>\n",
              "      <td>recovering a title</td>\n",
              "    </tr>\n",
              "  </tbody>\n",
              "</table>\n",
              "<p>1 rows × 25 columns</p>\n",
              "</div>\n",
              "      <button class=\"colab-df-convert\" onclick=\"convertToInteractive('df-354e75ad-17e6-46d5-81a1-cc1e6456f943')\"\n",
              "              title=\"Convert this dataframe to an interactive table.\"\n",
              "              style=\"display:none;\">\n",
              "        \n",
              "  <svg xmlns=\"http://www.w3.org/2000/svg\" height=\"24px\"viewBox=\"0 0 24 24\"\n",
              "       width=\"24px\">\n",
              "    <path d=\"M0 0h24v24H0V0z\" fill=\"none\"/>\n",
              "    <path d=\"M18.56 5.44l.94 2.06.94-2.06 2.06-.94-2.06-.94-.94-2.06-.94 2.06-2.06.94zm-11 1L8.5 8.5l.94-2.06 2.06-.94-2.06-.94L8.5 2.5l-.94 2.06-2.06.94zm10 10l.94 2.06.94-2.06 2.06-.94-2.06-.94-.94-2.06-.94 2.06-2.06.94z\"/><path d=\"M17.41 7.96l-1.37-1.37c-.4-.4-.92-.59-1.43-.59-.52 0-1.04.2-1.43.59L10.3 9.45l-7.72 7.72c-.78.78-.78 2.05 0 2.83L4 21.41c.39.39.9.59 1.41.59.51 0 1.02-.2 1.41-.59l7.78-7.78 2.81-2.81c.8-.78.8-2.07 0-2.86zM5.41 20L4 18.59l7.72-7.72 1.47 1.35L5.41 20z\"/>\n",
              "  </svg>\n",
              "      </button>\n",
              "      \n",
              "  <style>\n",
              "    .colab-df-container {\n",
              "      display:flex;\n",
              "      flex-wrap:wrap;\n",
              "      gap: 12px;\n",
              "    }\n",
              "\n",
              "    .colab-df-convert {\n",
              "      background-color: #E8F0FE;\n",
              "      border: none;\n",
              "      border-radius: 50%;\n",
              "      cursor: pointer;\n",
              "      display: none;\n",
              "      fill: #1967D2;\n",
              "      height: 32px;\n",
              "      padding: 0 0 0 0;\n",
              "      width: 32px;\n",
              "    }\n",
              "\n",
              "    .colab-df-convert:hover {\n",
              "      background-color: #E2EBFA;\n",
              "      box-shadow: 0px 1px 2px rgba(60, 64, 67, 0.3), 0px 1px 3px 1px rgba(60, 64, 67, 0.15);\n",
              "      fill: #174EA6;\n",
              "    }\n",
              "\n",
              "    [theme=dark] .colab-df-convert {\n",
              "      background-color: #3B4455;\n",
              "      fill: #D2E3FC;\n",
              "    }\n",
              "\n",
              "    [theme=dark] .colab-df-convert:hover {\n",
              "      background-color: #434B5C;\n",
              "      box-shadow: 0px 1px 3px 1px rgba(0, 0, 0, 0.15);\n",
              "      filter: drop-shadow(0px 1px 2px rgba(0, 0, 0, 0.3));\n",
              "      fill: #FFFFFF;\n",
              "    }\n",
              "  </style>\n",
              "\n",
              "      <script>\n",
              "        const buttonEl =\n",
              "          document.querySelector('#df-354e75ad-17e6-46d5-81a1-cc1e6456f943 button.colab-df-convert');\n",
              "        buttonEl.style.display =\n",
              "          google.colab.kernel.accessAllowed ? 'block' : 'none';\n",
              "\n",
              "        async function convertToInteractive(key) {\n",
              "          const element = document.querySelector('#df-354e75ad-17e6-46d5-81a1-cc1e6456f943');\n",
              "          const dataTable =\n",
              "            await google.colab.kernel.invokeFunction('convertToInteractive',\n",
              "                                                     [key], {});\n",
              "          if (!dataTable) return;\n",
              "\n",
              "          const docLinkHtml = 'Like what you see? Visit the ' +\n",
              "            '<a target=\"_blank\" href=https://colab.research.google.com/notebooks/data_table.ipynb>data table notebook</a>'\n",
              "            + ' to learn more about interactive tables.';\n",
              "          element.innerHTML = '';\n",
              "          dataTable['output_type'] = 'display_data';\n",
              "          await google.colab.output.renderOutput(dataTable, element);\n",
              "          const docLink = document.createElement('div');\n",
              "          docLink.innerHTML = docLinkHtml;\n",
              "          element.appendChild(docLink);\n",
              "        }\n",
              "      </script>\n",
              "    </div>\n",
              "  </div>\n",
              "  "
            ]
          },
          "metadata": {},
          "execution_count": 11
        }
      ],
      "source": [
        "\n",
        "for index in new_Index:\n",
        "    data[index]=data[index].str.lower()\n",
        "data.head(1)"
      ]
    },
    {
      "cell_type": "code",
      "execution_count": null,
      "metadata": {
        "colab": {
          "base_uri": "https://localhost:8080/",
          "height": 108
        },
        "id": "R0o_oIbTdVAf",
        "outputId": "696b9253-9821-491c-8854-d16e99f91419"
      },
      "outputs": [
        {
          "output_type": "execute_result",
          "data": {
            "text/plain": [
              "'scorecard the best lake scene leader  german sleaze inquiry cheerio  boyo the main recommendations has cubie killed fees  has cubie killed fees  has cubie killed fees  hopkins  furious  at foster s lack of hannibal appetite has cubie killed fees  a tale of two tails i say what i like and i like what i say elbows  eyes and nipples task force to assess risk of asteroid collision how i found myself at last on the critical list the timing of their lives dear doctor irish court halts ira man s extradition to northern ireland burundi peace initiative fades after rebels reject mandela as mediator pe points the way forward to the ecb campaigners keep up pressure on nazi war crimes suspect jane ratcliffe yet more things you wouldn t know without the movies millennium bug fails to bite'"
            ],
            "application/vnd.google.colaboratory.intrinsic+json": {
              "type": "string"
            }
          },
          "metadata": {},
          "execution_count": 12
        }
      ],
      "source": [
        "' '.join(str(x) for x in data.iloc[1,0:25])"
      ]
    },
    {
      "cell_type": "markdown",
      "source": [
        "### Aggregating all the headlines together belonging to same date"
      ],
      "metadata": {
        "id": "NrsLPHWTC15Q"
      }
    },
    {
      "cell_type": "code",
      "execution_count": null,
      "metadata": {
        "id": "RBvc4BdCdaUH"
      },
      "outputs": [],
      "source": [
        "headlines = []\n",
        "for row in range(0,len(data.index)):\n",
        "    headlines.append(' '.join(str(x) for x in data.iloc[row,0:25]))"
      ]
    },
    {
      "cell_type": "code",
      "execution_count": null,
      "metadata": {
        "colab": {
          "base_uri": "https://localhost:8080/",
          "height": 108
        },
        "id": "mlD6aCiMdcIF",
        "outputId": "36e27e9f-a5ab-4fbc-88fb-3cb0c5f52e38"
      },
      "outputs": [
        {
          "output_type": "execute_result",
          "data": {
            "text/plain": [
              "'a  hindrance to operations   extracts from the leaked reports scorecard hughes  instant hit buoys blues jack gets his skates on at ice cold alex chaos as maracana builds up for united depleted leicester prevail as elliott spoils everton s party hungry spurs sense rich pickings gunners so wide of an easy target derby raise a glass to strupar s debut double southgate strikes  leeds pay the penalty hammers hand robson a youthful lesson saints party like it s      wear wolves have turned into lambs stump mike catches testy gough s taunt langer escapes to hit     flintoff injury piles on woe for england hunters threaten jospin with new battle of the somme kohl s successor drawn into scandal the difference between men and women sara denver  nurse turned solicitor diana s landmine crusade put tories in a panic yeltsin s resignation caught opposition flat footed russian roulette sold out recovering a title'"
            ],
            "application/vnd.google.colaboratory.intrinsic+json": {
              "type": "string"
            }
          },
          "metadata": {},
          "execution_count": 16
        }
      ],
      "source": [
        "headlines[0]"
      ]
    },
    {
      "cell_type": "markdown",
      "metadata": {
        "id": "MKZ63H9r7IXV"
      },
      "source": [
        "#Bag of words+MODELS\n",
        "### implementing BAG OF WORDS"
      ]
    },
    {
      "cell_type": "code",
      "execution_count": null,
      "metadata": {
        "id": "UG4o8sMsdgue"
      },
      "outputs": [],
      "source": [
        "from sklearn.feature_extraction.text import CountVectorizer\n",
        "from sklearn.ensemble import RandomForestClassifier"
      ]
    },
    {
      "cell_type": "code",
      "execution_count": null,
      "metadata": {
        "id": "lnirmNCidnTo"
      },
      "outputs": [],
      "source": [
        "\n",
        "countvector=CountVectorizer(ngram_range=(2,2))\n",
        "traindataset=countvector.fit_transform(headlines)"
      ]
    },
    {
      "cell_type": "code",
      "execution_count": null,
      "metadata": {
        "colab": {
          "base_uri": "https://localhost:8080/"
        },
        "id": "uJAOwlSnWqYn",
        "outputId": "b7062bb5-10a8-4835-9af1-b47c0b6c386d"
      },
      "outputs": [
        {
          "output_type": "execute_result",
          "data": {
            "text/plain": [
              "<3975x584289 sparse matrix of type '<class 'numpy.int64'>'\n",
              "\twith 1075856 stored elements in Compressed Sparse Row format>"
            ]
          },
          "metadata": {},
          "execution_count": 19
        }
      ],
      "source": [
        "traindataset"
      ]
    },
    {
      "cell_type": "markdown",
      "metadata": {
        "id": "yK0ww9aH7Qhm"
      },
      "source": [
        "### Building RandomForest Classifier"
      ]
    },
    {
      "cell_type": "code",
      "execution_count": null,
      "metadata": {
        "colab": {
          "base_uri": "https://localhost:8080/"
        },
        "id": "NQ1ymML-dotb",
        "outputId": "f3cc721b-4b9b-495a-f1c0-d72d5350c253"
      },
      "outputs": [
        {
          "output_type": "execute_result",
          "data": {
            "text/plain": [
              "RandomForestClassifier(criterion='entropy', n_estimators=200)"
            ]
          },
          "metadata": {},
          "execution_count": 20
        }
      ],
      "source": [
        "\n",
        "randomclassifier=RandomForestClassifier(n_estimators=200,criterion='entropy')\n",
        "randomclassifier.fit(traindataset,train['Label'])"
      ]
    },
    {
      "cell_type": "code",
      "execution_count": null,
      "metadata": {
        "colab": {
          "base_uri": "https://localhost:8080/"
        },
        "id": "mw_KGQYjSm7T",
        "outputId": "bb188846-8beb-4088-b110-cc23a7578bce"
      },
      "outputs": [
        {
          "output_type": "execute_result",
          "data": {
            "text/plain": [
              "MultinomialNB()"
            ]
          },
          "metadata": {},
          "execution_count": 21
        }
      ],
      "source": [
        "from sklearn.naive_bayes import MultinomialNB\n",
        "nb=MultinomialNB()\n",
        "nb.fit(traindataset,train['Label'])\n",
        "\n"
      ]
    },
    {
      "cell_type": "markdown",
      "metadata": {
        "id": "dPUeNHKL7VlS"
      },
      "source": [
        "### Predict for the Test Dataset"
      ]
    },
    {
      "cell_type": "code",
      "execution_count": null,
      "metadata": {
        "id": "CPzLtnZcdwKT"
      },
      "outputs": [],
      "source": [
        "\n",
        "test_transform= []\n",
        "for row in range(0,len(test.index)):\n",
        "    test_transform.append(' '.join(str(x) for x in test.iloc[row,2:27]))\n",
        "test_dataset = countvector.transform(test_transform)\n",
        "predictions_forest = randomclassifier.predict(test_dataset)"
      ]
    },
    {
      "cell_type": "markdown",
      "metadata": {
        "id": "EuB5sSlP7aWl"
      },
      "source": [
        "### Accuracy Check"
      ]
    },
    {
      "cell_type": "code",
      "execution_count": null,
      "metadata": {
        "id": "fUSM5H7HVJGO"
      },
      "outputs": [],
      "source": [
        "from sklearn import metrics\n",
        "import itertools\n",
        "def plot_confusion_matrix(cm, classes,\n",
        "                          normalize=False,\n",
        "                          title='Confusion matrix',\n",
        "                          cmap=plt.cm.Blues):\n",
        "  plt.imshow(cm, interpolation='nearest', cmap=cmap)\n",
        "  plt.title(title)\n",
        "  plt.colorbar()\n",
        "  tick_marks = np.arange(len(classes))\n",
        "  plt.xticks(tick_marks, classes, rotation=45)\n",
        "  plt.yticks(tick_marks, classes)\n",
        "\n",
        "  if normalize:\n",
        "      cm = cm.astype('float') / cm.sum(axis=1)[:, np.newaxis]\n",
        "      print(\"Normalized confusion matrix\")\n",
        "  else:\n",
        "      print('Confusion matrix, without normalization')\n",
        "\n",
        "  thresh = cm.max() / 2.\n",
        "  for i, j in itertools.product(range(cm.shape[0]), range(cm.shape[1])):\n",
        "      plt.text(j, i, cm[i, j],\n",
        "                horizontalalignment=\"center\",\n",
        "                color=\"white\" if cm[i, j] > thresh else \"black\")\n",
        "\n",
        "  plt.tight_layout()\n",
        "  plt.ylabel('True label')\n",
        "  plt.xlabel('Predicted label')  \n",
        "  \n",
        "  \n",
        "\n",
        "    \n",
        "    \n",
        "   "
      ]
    },
    {
      "cell_type": "code",
      "execution_count": null,
      "metadata": {
        "id": "2gLDpdJDeCKz"
      },
      "outputs": [],
      "source": [
        "\n",
        "from sklearn.metrics import classification_report,confusion_matrix,accuracy_score"
      ]
    },
    {
      "cell_type": "code",
      "execution_count": null,
      "metadata": {
        "colab": {
          "base_uri": "https://localhost:8080/",
          "height": 547
        },
        "id": "UmhB88J4edIT",
        "outputId": "b1fc5060-f910-4fdd-ae00-df8c0bff3722"
      },
      "outputs": [
        {
          "output_type": "stream",
          "name": "stdout",
          "text": [
            "[[141  45]\n",
            " [  7 185]]\n",
            "0.8624338624338624\n",
            "              precision    recall  f1-score   support\n",
            "\n",
            "           0       0.95      0.76      0.84       186\n",
            "           1       0.80      0.96      0.88       192\n",
            "\n",
            "    accuracy                           0.86       378\n",
            "   macro avg       0.88      0.86      0.86       378\n",
            "weighted avg       0.88      0.86      0.86       378\n",
            "\n",
            "Confusion matrix, without normalization\n"
          ]
        },
        {
          "output_type": "display_data",
          "data": {
            "text/plain": [
              "<Figure size 432x288 with 2 Axes>"
            ],
            "image/png": "[encoded data removed]"
          },
          "metadata": {
            "needs_background": "light"
          }
        }
      ],
      "source": [
        "#Random Forest\n",
        "import numpy as np\n",
        "matrix=confusion_matrix(test['Label'],predictions_forest)\n",
        "print(matrix)\n",
        "score=accuracy_score(test['Label'],predictions_forest)\n",
        "print(score)\n",
        "report=classification_report(test['Label'],predictions_forest)\n",
        "print(report)\n",
        "plot_confusion_matrix(matrix, classes=['Rise', 'Fall'])\n"
      ]
    },
    {
      "cell_type": "code",
      "execution_count": null,
      "metadata": {
        "colab": {
          "base_uri": "https://localhost:8080/",
          "height": 547
        },
        "id": "zelhS_1oTmQ-",
        "outputId": "f23be228-b51f-4b52-b39b-9f20735ced47"
      },
      "outputs": [
        {
          "output_type": "stream",
          "name": "stdout",
          "text": [
            "[[138  48]\n",
            " [ 10 182]]\n",
            "0.8465608465608465\n",
            "              precision    recall  f1-score   support\n",
            "\n",
            "           0       0.93      0.74      0.83       186\n",
            "           1       0.79      0.95      0.86       192\n",
            "\n",
            "    accuracy                           0.85       378\n",
            "   macro avg       0.86      0.84      0.84       378\n",
            "weighted avg       0.86      0.85      0.84       378\n",
            "\n",
            "Confusion matrix, without normalization\n"
          ]
        },
        {
          "output_type": "display_data",
          "data": {
            "text/plain": [
              "<Figure size 432x288 with 2 Axes>"
            ],
            "image/png": "[encoded data removed]"
          },
          "metadata": {
            "needs_background": "light"
          }
        }
      ],
      "source": [
        "#multinimoialNB\n",
        "import numpy as np\n",
        "predictions = nb.predict(test_dataset)\n",
        "matrix=confusion_matrix(test['Label'],predictions)\n",
        "print(matrix)\n",
        "score=accuracy_score(test['Label'],predictions)\n",
        "print(score)\n",
        "report=classification_report(test['Label'],predictions)\n",
        "print(report)\n",
        "plot_confusion_matrix(matrix, classes=['Rise', 'Fall'])"
      ]
    },
    {
      "cell_type": "markdown",
      "source": [
        "### **PassiveAggresive Model**"
      ],
      "metadata": {
        "id": "5gJ4ule5BhCz"
      }
    },
    {
      "cell_type": "code",
      "source": [
        "from sklearn.linear_model import PassiveAggressiveClassifier\n",
        "pa = PassiveAggressiveClassifier()\n",
        "pa.fit(traindataset,train['Label'])\n",
        "\n",
        "predictions = pa.predict(test_dataset)\n",
        "matrix=confusion_matrix(test['Label'],predictions)\n",
        "print(matrix)\n",
        "score=accuracy_score(test['Label'],predictions)\n",
        "print(score)\n",
        "report=classification_report(test['Label'],predictions)\n",
        "print(report)\n",
        "plot_confusion_matrix(matrix, classes=['Down', 'Up'])"
      ],
      "metadata": {
        "colab": {
          "base_uri": "https://localhost:8080/",
          "height": 547
        },
        "id": "ArxcBC5BlA_w",
        "outputId": "a25d2389-90c5-4d17-cf9d-dd49efa23c48"
      },
      "execution_count": null,
      "outputs": [
        {
          "output_type": "stream",
          "name": "stdout",
          "text": [
            "[[159  27]\n",
            " [ 33 159]]\n",
            "0.8412698412698413\n",
            "              precision    recall  f1-score   support\n",
            "\n",
            "           0       0.83      0.85      0.84       186\n",
            "           1       0.85      0.83      0.84       192\n",
            "\n",
            "    accuracy                           0.84       378\n",
            "   macro avg       0.84      0.84      0.84       378\n",
            "weighted avg       0.84      0.84      0.84       378\n",
            "\n",
            "Confusion matrix, without normalization\n"
          ]
        },
        {
          "output_type": "display_data",
          "data": {
            "text/plain": [
              "<Figure size 432x288 with 2 Axes>"
            ],
            "image/png": "[encoded data removed]"
          },
          "metadata": {
            "needs_background": "light"
          }
        }
      ]
    },
    {
      "cell_type": "markdown",
      "metadata": {
        "id": "K_wKW_ThX1Rz"
      },
      "source": [
        "# TF-IDF with Random forest,MultiNB and PA"
      ]
    },
    {
      "cell_type": "code",
      "source": [
        "from sklearn.feature_extraction.text import TfidfVectorizer\n",
        "from sklearn.ensemble import RandomForestClassifier"
      ],
      "metadata": {
        "id": "4daBXm_z3zEq"
      },
      "execution_count": null,
      "outputs": []
    },
    {
      "cell_type": "code",
      "source": [
        "#implement TF-IDF\n",
        "tfvector=TfidfVectorizer(ngram_range=(2,3))\n",
        "train_df=tfvector.fit_transform(headlines)"
      ],
      "metadata": {
        "id": "3oJjcZBL31RP"
      },
      "execution_count": null,
      "outputs": []
    },
    {
      "cell_type": "code",
      "source": [
        "# implement RandomForest Classifier\n",
        "randomclassifier=RandomForestClassifier(n_estimators=200,criterion='entropy')\n",
        "randomclassifier.fit(train_df,train['Label'])"
      ],
      "metadata": {
        "colab": {
          "base_uri": "https://localhost:8080/"
        },
        "id": "7H69MB2q38Nr",
        "outputId": "fc061f14-0d03-4b67-c8ea-b3eeb156f654"
      },
      "execution_count": null,
      "outputs": [
        {
          "output_type": "execute_result",
          "data": {
            "text/plain": [
              "RandomForestClassifier(criterion='entropy', n_estimators=200)"
            ]
          },
          "metadata": {},
          "execution_count": 31
        }
      ]
    },
    {
      "cell_type": "code",
      "source": [
        "# Predict for the Test Dataset\n",
        "test_transform= []\n",
        "for row in range(0,len(test.index)):\n",
        "    test_transform.append(' '.join(str(x) for x in test.iloc[row,2:27]))\n",
        "test_dataset = tfvector.transform(test_transform)\n",
        "predictions = randomclassifier.predict(test_dataset)"
      ],
      "metadata": {
        "id": "j3ona3XG64uu"
      },
      "execution_count": null,
      "outputs": []
    },
    {
      "cell_type": "code",
      "source": [
        "# Predict for the Test Dataset\n",
        "test_transform= []\n",
        "for row in range(0,len(test.index)):\n",
        "    test_transform.append(' '.join(str(x) for x in test.iloc[row,2:27]))\n",
        "test_dataset = tfvector.transform(test_transform)\n",
        "predictions = randomclassifier.predict(test_dataset)"
      ],
      "metadata": {
        "id": "RVOnLEzR66_4"
      },
      "execution_count": null,
      "outputs": []
    },
    {
      "cell_type": "code",
      "source": [
        "from sklearn.metrics import classification_report,confusion_matrix,accuracy_score\n",
        "matrix=confusion_matrix(test['Label'],predictions)\n",
        "print(matrix)\n",
        "score=accuracy_score(test['Label'],predictions)\n",
        "print(score)\n",
        "report=classification_report(test['Label'],predictions)\n",
        "print(report)\n",
        "plot_confusion_matrix(matrix, classes=['Down', 'Up'])"
      ],
      "metadata": {
        "colab": {
          "base_uri": "https://localhost:8080/",
          "height": 547
        },
        "id": "KszE1FE167BK",
        "outputId": "cac35781-e854-4d8e-fdd0-8bdc1f2a9e68"
      },
      "execution_count": null,
      "outputs": [
        {
          "output_type": "stream",
          "name": "stdout",
          "text": [
            "[[148  38]\n",
            " [ 24 168]]\n",
            "0.8359788359788359\n",
            "              precision    recall  f1-score   support\n",
            "\n",
            "           0       0.86      0.80      0.83       186\n",
            "           1       0.82      0.88      0.84       192\n",
            "\n",
            "    accuracy                           0.84       378\n",
            "   macro avg       0.84      0.84      0.84       378\n",
            "weighted avg       0.84      0.84      0.84       378\n",
            "\n",
            "Confusion matrix, without normalization\n"
          ]
        },
        {
          "output_type": "display_data",
          "data": {
            "text/plain": [
              "<Figure size 432x288 with 2 Axes>"
            ],
            "image/png": "[encoded data removed]"
          },
          "metadata": {
            "needs_background": "light"
          }
        }
      ]
    },
    {
      "cell_type": "markdown",
      "source": [
        "MultiNB+tfid"
      ],
      "metadata": {
        "id": "ZfQg7RK4Ft43"
      }
    },
    {
      "cell_type": "code",
      "source": [
        "from sklearn.naive_bayes import MultinomialNB\n",
        "nb=MultinomialNB()\n",
        "nb.fit(train_df,train['Label'])"
      ],
      "metadata": {
        "colab": {
          "base_uri": "https://localhost:8080/"
        },
        "id": "fp6gSKQd7Ojm",
        "outputId": "d4b5d0f5-62a1-40d9-8fba-5527d727d782"
      },
      "execution_count": null,
      "outputs": [
        {
          "output_type": "execute_result",
          "data": {
            "text/plain": [
              "MultinomialNB()"
            ]
          },
          "metadata": {},
          "execution_count": 35
        }
      ]
    },
    {
      "cell_type": "code",
      "source": [
        "predictions = nb.predict(test_dataset)\n",
        "matrix=confusion_matrix(test['Label'],predictions)\n",
        "print(matrix)\n",
        "score=accuracy_score(test['Label'],predictions)\n",
        "print(score)\n",
        "report=classification_report(test['Label'],predictions)\n",
        "print(report)\n",
        "plot_confusion_matrix(matrix, classes=['Down', 'Up'])"
      ],
      "metadata": {
        "colab": {
          "base_uri": "https://localhost:8080/",
          "height": 547
        },
        "id": "KZ-4sOrG7Q0Q",
        "outputId": "21d6d753-1793-4774-a7c4-a5bd9d39f43e"
      },
      "execution_count": null,
      "outputs": [
        {
          "output_type": "stream",
          "name": "stdout",
          "text": [
            "[[130  56]\n",
            " [  0 192]]\n",
            "0.8518518518518519\n",
            "              precision    recall  f1-score   support\n",
            "\n",
            "           0       1.00      0.70      0.82       186\n",
            "           1       0.77      1.00      0.87       192\n",
            "\n",
            "    accuracy                           0.85       378\n",
            "   macro avg       0.89      0.85      0.85       378\n",
            "weighted avg       0.89      0.85      0.85       378\n",
            "\n",
            "Confusion matrix, without normalization\n"
          ]
        },
        {
          "output_type": "display_data",
          "data": {
            "text/plain": [
              "<Figure size 432x288 with 2 Axes>"
            ],
            "image/png": "[encoded data removed]"
          },
          "metadata": {
            "needs_background": "light"
          }
        }
      ]
    },
    {
      "cell_type": "markdown",
      "source": [
        "PassiveAggresive classifier+tfid"
      ],
      "metadata": {
        "id": "ME5uW6wv7cPj"
      }
    },
    {
      "cell_type": "code",
      "source": [
        "from sklearn.linear_model import PassiveAggressiveClassifier\n",
        "pa = PassiveAggressiveClassifier(C=0.5,random_state=5)\n",
        "pa.fit(train_df,train['Label'])"
      ],
      "metadata": {
        "colab": {
          "base_uri": "https://localhost:8080/"
        },
        "id": "VIbDWJ1P7VKq",
        "outputId": "d8c83195-ae4a-4063-ddfa-d8204699a602"
      },
      "execution_count": null,
      "outputs": [
        {
          "output_type": "execute_result",
          "data": {
            "text/plain": [
              "PassiveAggressiveClassifier(C=0.5, random_state=5)"
            ]
          },
          "metadata": {},
          "execution_count": 47
        }
      ]
    },
    {
      "cell_type": "code",
      "source": [
        "predictions = pa.predict(test_dataset)\n",
        "matrix=confusion_matrix(test['Label'],predictions)\n",
        "print(matrix)\n",
        "score=accuracy_score(test['Label'],predictions)\n",
        "print(score)\n",
        "report=classification_report(test['Label'],predictions)\n",
        "print(report)\n",
        "plot_confusion_matrix(matrix, classes=['Down', 'Up'])"
      ],
      "metadata": {
        "colab": {
          "base_uri": "https://localhost:8080/",
          "height": 547
        },
        "id": "XwTXA_YX7k37",
        "outputId": "05314d3c-b8ae-4df7-ea31-8aeb13b1c2ba"
      },
      "execution_count": null,
      "outputs": [
        {
          "output_type": "stream",
          "name": "stdout",
          "text": [
            "[[145  41]\n",
            " [ 14 178]]\n",
            "0.8544973544973545\n",
            "              precision    recall  f1-score   support\n",
            "\n",
            "           0       0.91      0.78      0.84       186\n",
            "           1       0.81      0.93      0.87       192\n",
            "\n",
            "    accuracy                           0.85       378\n",
            "   macro avg       0.86      0.85      0.85       378\n",
            "weighted avg       0.86      0.85      0.85       378\n",
            "\n",
            "Confusion matrix, without normalization\n"
          ]
        },
        {
          "output_type": "display_data",
          "data": {
            "text/plain": [
              "<Figure size 432x288 with 2 Axes>"
            ],
            "image/png": "[encoded data removed]"
          },
          "metadata": {
            "needs_background": "light"
          }
        }
      ]
    },
    {
      "cell_type": "markdown",
      "source": [
        "## **Inference**"
      ],
      "metadata": {
        "id": "Jehnv37_p_QG"
      }
    },
    {
      "cell_type": "markdown",
      "source": [
        "Best accuracy was achieved with TFID+PassiveAggresive Model-85.4% and BagOfWords+RandomForest(86.24%)"
      ],
      "metadata": {
        "id": "ey6ENz6XF4_B"
      }
    },
    {
      "cell_type": "markdown",
      "source": [
        "XXXXXXXXXXXXXXXXXXXXXXXXXXXXXXXXXXXXXXXXXXXXXXXXXXXXXXXXXXXXXXXXXXXXXXXXXXXXXXXXXXXXXXXXXXXXXXXXXXXXXXXXXXXXXXXXXXXXXXXXXXXXXXXXXXXXXXXXXXXXXXXXXXXXXXXx"
      ],
      "metadata": {
        "id": "ayaXMaKSop-g"
      }
    },
    {
      "cell_type": "code",
      "source": [
        "import keras\n",
        "sequenceLength = 200\n",
        "kTokenizer = keras.preprocessing.text.Tokenizer()\n",
        "kTokenizer.fit_on_texts(headlines)\n",
        "encoded_docs = kTokenizer.texts_to_sequences(headlines)\n",
        "Xencoded = keras.preprocessing.sequence.pad_sequences(encoded_docs, maxlen=sequenceLength, padding='post')\n"
      ],
      "metadata": {
        "id": "RnakihkyovL3"
      },
      "execution_count": null,
      "outputs": []
    },
    {
      "cell_type": "code",
      "source": [
        "validatn=headlines_tst[150:]\n",
        "kTokenizer.fit_on_texts(validatn)\n",
        "encoded_docs_vald = kTokenizer.texts_to_sequences(validatn)\n",
        "Xencoded_vald = keras.preprocessing.sequence.pad_sequences(encoded_docs, maxlen=sequenceLength, padding='post')\n"
      ],
      "metadata": {
        "id": "MAm1UtUR0SdZ"
      },
      "execution_count": null,
      "outputs": []
    },
    {
      "cell_type": "code",
      "source": [
        "#implement TF-IDF\n",
        "tfvector=TfidfVectorizer(ngram_range=(2,3))\n",
        "valid_df=tfvector.fit_transform(validatn)"
      ],
      "metadata": {
        "id": "Wi8jI1ko05cX"
      },
      "execution_count": null,
      "outputs": []
    },
    {
      "cell_type": "code",
      "source": [
        "valid_y=test['Label']\n",
        "valid_y=valid_y[150:]\n",
        "len(valid_y)"
      ],
      "metadata": {
        "colab": {
          "base_uri": "https://localhost:8080/"
        },
        "id": "ovssdqom6eyc",
        "outputId": "74dfd9e2-f643-4412-e07c-b8a7bfacc649"
      },
      "execution_count": null,
      "outputs": [
        {
          "output_type": "execute_result",
          "data": {
            "text/plain": [
              "228"
            ]
          },
          "metadata": {},
          "execution_count": 55
        }
      ]
    },
    {
      "cell_type": "code",
      "source": [
        "# A simple LSTM model\n",
        "model = keras.models.Sequential()\n",
        "if (vectorSource != 'none'):\n",
        "    embedding_matrix = getEmbeddingMatrix (kTokenizer.word_index, vectorSource)\n",
        "    embedding = keras.layers.embeddings.Embedding(input_dim=len(kTokenizer.word_index)+1, output_dim=300, weights=[embedding_matrix], input_length=sequenceLength, trainable=False, mask_zero=True)\n",
        "else:\n",
        "    embedding = keras.layers.embeddings.Embedding(input_dim=len(kTokenizer.word_index)+1, output_dim=300, input_length=sequenceLength, trainable=True, mask_zero=True)\n",
        "model.add(embedding)\n",
        "model.add(keras.layers.LSTM(units=150, dropout=0.2, recurrent_dropout=0.2, return_sequences=False))\n",
        "model.add(keras.layers.Dense(numClasses, activation='softmax'))\n",
        "model.compile(optimizer='adam', loss='categorical_crossentropy', metrics=['acc'])"
      ],
      "metadata": {
        "id": "CWmGStQkqfUF"
      },
      "execution_count": null,
      "outputs": []
    },
    {
      "cell_type": "code",
      "source": [
        "# A simple LSTM model\n",
        "model = keras.models.Sequential()\n",
        "\n",
        "embedding = keras.layers.embeddings.Embedding(input_dim=len(kTokenizer.word_index)+1, output_dim=300, input_length=sequenceLength, trainable=True, mask_zero=True)\n",
        "model.add(embedding)\n",
        "model.add(keras.layers.LSTM(units=150, dropout=0.2, recurrent_dropout=0.2, return_sequences=False))\n",
        "model.add(keras.layers.Dense(2, activation='softmax'))\n",
        "model.compile(optimizer='adam', loss='categorical_crossentropy', metrics=['acc'])"
      ],
      "metadata": {
        "id": "9hSMGtJUpPJA"
      },
      "execution_count": null,
      "outputs": []
    },
    {
      "cell_type": "code",
      "source": [
        "model.fit(x=train_df, y=train['Label'], epochs=5, batch_size=32, shuffle=True, validation_data = (valid_df, valid_y), verbose=2)"
      ],
      "metadata": {
        "colab": {
          "base_uri": "https://localhost:8080/",
          "height": 650
        },
        "id": "Atfdz_TZtJ1D",
        "outputId": "caa120ca-f42c-40ee-b11a-8f69aae13960"
      },
      "execution_count": null,
      "outputs": [
        {
          "output_type": "stream",
          "name": "stderr",
          "text": [
            "WARNING:tensorflow:Keras is training/fitting/evaluating on array-like data. Keras may not be optimized for this format, so if your input data format is supported by TensorFlow I/O (https://github.com/tensorflow/io) we recommend using that to load a Dataset instead.\n"
          ]
        },
        {
          "output_type": "stream",
          "name": "stdout",
          "text": [
            "Epoch 1/5\n"
          ]
        },
        {
          "output_type": "error",
          "ename": "ValueError",
          "evalue": "ignored",
          "traceback": [
            "\u001b[0;31m---------------------------------------------------------------------------\u001b[0m",
            "\u001b[0;31mValueError\u001b[0m                                Traceback (most recent call last)",
            "\u001b[0;32m<ipython-input-58-6f04e73f7434>\u001b[0m in \u001b[0;36m<module>\u001b[0;34m()\u001b[0m\n\u001b[0;32m----> 1\u001b[0;31m \u001b[0mmodel\u001b[0m\u001b[0;34m.\u001b[0m\u001b[0mfit\u001b[0m\u001b[0;34m(\u001b[0m\u001b[0mx\u001b[0m\u001b[0;34m=\u001b[0m\u001b[0mtrain_df\u001b[0m\u001b[0;34m,\u001b[0m \u001b[0my\u001b[0m\u001b[0;34m=\u001b[0m\u001b[0mtrain\u001b[0m\u001b[0;34m[\u001b[0m\u001b[0;34m'Label'\u001b[0m\u001b[0;34m]\u001b[0m\u001b[0;34m,\u001b[0m \u001b[0mepochs\u001b[0m\u001b[0;34m=\u001b[0m\u001b[0;36m5\u001b[0m\u001b[0;34m,\u001b[0m \u001b[0mbatch_size\u001b[0m\u001b[0;34m=\u001b[0m\u001b[0;36m32\u001b[0m\u001b[0;34m,\u001b[0m \u001b[0mshuffle\u001b[0m\u001b[0;34m=\u001b[0m\u001b[0;32mTrue\u001b[0m\u001b[0;34m,\u001b[0m \u001b[0mvalidation_data\u001b[0m \u001b[0;34m=\u001b[0m \u001b[0;34m(\u001b[0m\u001b[0mvalid_df\u001b[0m\u001b[0;34m,\u001b[0m \u001b[0mvalid_y\u001b[0m\u001b[0;34m)\u001b[0m\u001b[0;34m,\u001b[0m \u001b[0mverbose\u001b[0m\u001b[0;34m=\u001b[0m\u001b[0;36m2\u001b[0m\u001b[0;34m)\u001b[0m\u001b[0;34m\u001b[0m\u001b[0;34m\u001b[0m\u001b[0m\n\u001b[0m",
            "\u001b[0;32m/usr/local/lib/python3.7/dist-packages/keras/utils/traceback_utils.py\u001b[0m in \u001b[0;36merror_handler\u001b[0;34m(*args, **kwargs)\u001b[0m\n\u001b[1;32m     65\u001b[0m     \u001b[0;32mexcept\u001b[0m \u001b[0mException\u001b[0m \u001b[0;32mas\u001b[0m \u001b[0me\u001b[0m\u001b[0;34m:\u001b[0m  \u001b[0;31m# pylint: disable=broad-except\u001b[0m\u001b[0;34m\u001b[0m\u001b[0;34m\u001b[0m\u001b[0m\n\u001b[1;32m     66\u001b[0m       \u001b[0mfiltered_tb\u001b[0m \u001b[0;34m=\u001b[0m \u001b[0m_process_traceback_frames\u001b[0m\u001b[0;34m(\u001b[0m\u001b[0me\u001b[0m\u001b[0;34m.\u001b[0m\u001b[0m__traceback__\u001b[0m\u001b[0;34m)\u001b[0m\u001b[0;34m\u001b[0m\u001b[0;34m\u001b[0m\u001b[0m\n\u001b[0;32m---> 67\u001b[0;31m       \u001b[0;32mraise\u001b[0m \u001b[0me\u001b[0m\u001b[0;34m.\u001b[0m\u001b[0mwith_traceback\u001b[0m\u001b[0;34m(\u001b[0m\u001b[0mfiltered_tb\u001b[0m\u001b[0;34m)\u001b[0m \u001b[0;32mfrom\u001b[0m \u001b[0;32mNone\u001b[0m\u001b[0;34m\u001b[0m\u001b[0;34m\u001b[0m\u001b[0m\n\u001b[0m\u001b[1;32m     68\u001b[0m     \u001b[0;32mfinally\u001b[0m\u001b[0;34m:\u001b[0m\u001b[0;34m\u001b[0m\u001b[0;34m\u001b[0m\u001b[0m\n\u001b[1;32m     69\u001b[0m       \u001b[0;32mdel\u001b[0m \u001b[0mfiltered_tb\u001b[0m\u001b[0;34m\u001b[0m\u001b[0;34m\u001b[0m\u001b[0m\n",
            "\u001b[0;32m/usr/local/lib/python3.7/dist-packages/tensorflow/python/framework/func_graph.py\u001b[0m in \u001b[0;36mautograph_handler\u001b[0;34m(*args, **kwargs)\u001b[0m\n\u001b[1;32m   1145\u001b[0m           \u001b[0;32mexcept\u001b[0m \u001b[0mException\u001b[0m \u001b[0;32mas\u001b[0m \u001b[0me\u001b[0m\u001b[0;34m:\u001b[0m  \u001b[0;31m# pylint:disable=broad-except\u001b[0m\u001b[0;34m\u001b[0m\u001b[0;34m\u001b[0m\u001b[0m\n\u001b[1;32m   1146\u001b[0m             \u001b[0;32mif\u001b[0m \u001b[0mhasattr\u001b[0m\u001b[0;34m(\u001b[0m\u001b[0me\u001b[0m\u001b[0;34m,\u001b[0m \u001b[0;34m\"ag_error_metadata\"\u001b[0m\u001b[0;34m)\u001b[0m\u001b[0;34m:\u001b[0m\u001b[0;34m\u001b[0m\u001b[0;34m\u001b[0m\u001b[0m\n\u001b[0;32m-> 1147\u001b[0;31m               \u001b[0;32mraise\u001b[0m \u001b[0me\u001b[0m\u001b[0;34m.\u001b[0m\u001b[0mag_error_metadata\u001b[0m\u001b[0;34m.\u001b[0m\u001b[0mto_exception\u001b[0m\u001b[0;34m(\u001b[0m\u001b[0me\u001b[0m\u001b[0;34m)\u001b[0m\u001b[0;34m\u001b[0m\u001b[0;34m\u001b[0m\u001b[0m\n\u001b[0m\u001b[1;32m   1148\u001b[0m             \u001b[0;32melse\u001b[0m\u001b[0;34m:\u001b[0m\u001b[0;34m\u001b[0m\u001b[0;34m\u001b[0m\u001b[0m\n\u001b[1;32m   1149\u001b[0m               \u001b[0;32mraise\u001b[0m\u001b[0;34m\u001b[0m\u001b[0;34m\u001b[0m\u001b[0m\n",
            "\u001b[0;31mValueError\u001b[0m: in user code:\n\n    File \"/usr/local/lib/python3.7/dist-packages/keras/engine/training.py\", line 1021, in train_function  *\n        return step_function(self, iterator)\n    File \"/usr/local/lib/python3.7/dist-packages/keras/engine/training.py\", line 1010, in step_function  **\n        outputs = model.distribute_strategy.run(run_step, args=(data,))\n    File \"/usr/local/lib/python3.7/dist-packages/keras/engine/training.py\", line 1000, in run_step  **\n        outputs = model.train_step(data)\n    File \"/usr/local/lib/python3.7/dist-packages/keras/engine/training.py\", line 859, in train_step\n        y_pred = self(x, training=True)\n    File \"/usr/local/lib/python3.7/dist-packages/keras/utils/traceback_utils.py\", line 67, in error_handler\n        raise e.with_traceback(filtered_tb) from None\n    File \"/usr/local/lib/python3.7/dist-packages/keras/engine/input_spec.py\", line 264, in assert_input_compatibility\n        raise ValueError(f'Input {input_index} of layer \"{layer_name}\" is '\n\n    ValueError: Input 0 of layer \"sequential_2\" is incompatible with the layer: expected shape=(None, 200), found shape=(None, 1553543)\n"
          ]
        }
      ]
    },
    {
      "cell_type": "code",
      "source": [
        "from keras.utils import np_utils\n",
        "\n",
        "train_labels = keras.utils.np_utils.to_categorical(labels[train_indices], len(labelToName))\n",
        "test_labels = keras.utils.to_categorical(labels[test_indices], len(labelToName))\n",
        "early_stop = keras.callbacks.EarlyStopping(monitor='val_loss', min_delta=0, patience=5, verbose=2, mode='auto', restore_best_weights=False)\n",
        "history = model.fit(x=train_x, y=train_labels, epochs=50, batch_size=32, shuffle=True, validation_data = (test_x, test_labels), verbose=2, callbacks=[early_stop])\n",
        "predicted = model.predict(test_x, verbose=2)\n",
        "predicted_labels = predicted.argmax(axis=1)"
      ],
      "metadata": {
        "colab": {
          "base_uri": "https://localhost:8080/",
          "height": 243
        },
        "id": "jr5DAp9urIdK",
        "outputId": "833dec7a-4e74-40bc-ea33-2afb5130da8d"
      },
      "execution_count": null,
      "outputs": [
        {
          "output_type": "error",
          "ename": "NameError",
          "evalue": "ignored",
          "traceback": [
            "\u001b[0;31m---------------------------------------------------------------------------\u001b[0m",
            "\u001b[0;31mNameError\u001b[0m                                 Traceback (most recent call last)",
            "\u001b[0;32m<ipython-input-33-c5b75eaefff2>\u001b[0m in \u001b[0;36m<module>\u001b[0;34m()\u001b[0m\n\u001b[1;32m      1\u001b[0m \u001b[0;32mfrom\u001b[0m \u001b[0mkeras\u001b[0m\u001b[0;34m.\u001b[0m\u001b[0mutils\u001b[0m \u001b[0;32mimport\u001b[0m \u001b[0mnp_utils\u001b[0m\u001b[0;34m\u001b[0m\u001b[0;34m\u001b[0m\u001b[0m\n\u001b[1;32m      2\u001b[0m \u001b[0;34m\u001b[0m\u001b[0m\n\u001b[0;32m----> 3\u001b[0;31m \u001b[0mtrain_labels\u001b[0m \u001b[0;34m=\u001b[0m \u001b[0mkeras\u001b[0m\u001b[0;34m.\u001b[0m\u001b[0mutils\u001b[0m\u001b[0;34m.\u001b[0m\u001b[0mnp_utils\u001b[0m\u001b[0;34m.\u001b[0m\u001b[0mto_categorical\u001b[0m\u001b[0;34m(\u001b[0m\u001b[0mlabels\u001b[0m\u001b[0;34m[\u001b[0m\u001b[0mtrain_indices\u001b[0m\u001b[0;34m]\u001b[0m\u001b[0;34m,\u001b[0m \u001b[0mlen\u001b[0m\u001b[0;34m(\u001b[0m\u001b[0mlabelToName\u001b[0m\u001b[0;34m)\u001b[0m\u001b[0;34m)\u001b[0m\u001b[0;34m\u001b[0m\u001b[0;34m\u001b[0m\u001b[0m\n\u001b[0m\u001b[1;32m      4\u001b[0m \u001b[0mtest_labels\u001b[0m \u001b[0;34m=\u001b[0m \u001b[0mkeras\u001b[0m\u001b[0;34m.\u001b[0m\u001b[0mutils\u001b[0m\u001b[0;34m.\u001b[0m\u001b[0mto_categorical\u001b[0m\u001b[0;34m(\u001b[0m\u001b[0mlabels\u001b[0m\u001b[0;34m[\u001b[0m\u001b[0mtest_indices\u001b[0m\u001b[0;34m]\u001b[0m\u001b[0;34m,\u001b[0m \u001b[0mlen\u001b[0m\u001b[0;34m(\u001b[0m\u001b[0mlabelToName\u001b[0m\u001b[0;34m)\u001b[0m\u001b[0;34m)\u001b[0m\u001b[0;34m\u001b[0m\u001b[0;34m\u001b[0m\u001b[0m\n\u001b[1;32m      5\u001b[0m \u001b[0mearly_stop\u001b[0m \u001b[0;34m=\u001b[0m \u001b[0mkeras\u001b[0m\u001b[0;34m.\u001b[0m\u001b[0mcallbacks\u001b[0m\u001b[0;34m.\u001b[0m\u001b[0mEarlyStopping\u001b[0m\u001b[0;34m(\u001b[0m\u001b[0mmonitor\u001b[0m\u001b[0;34m=\u001b[0m\u001b[0;34m'val_loss'\u001b[0m\u001b[0;34m,\u001b[0m \u001b[0mmin_delta\u001b[0m\u001b[0;34m=\u001b[0m\u001b[0;36m0\u001b[0m\u001b[0;34m,\u001b[0m \u001b[0mpatience\u001b[0m\u001b[0;34m=\u001b[0m\u001b[0;36m5\u001b[0m\u001b[0;34m,\u001b[0m \u001b[0mverbose\u001b[0m\u001b[0;34m=\u001b[0m\u001b[0;36m2\u001b[0m\u001b[0;34m,\u001b[0m \u001b[0mmode\u001b[0m\u001b[0;34m=\u001b[0m\u001b[0;34m'auto'\u001b[0m\u001b[0;34m,\u001b[0m \u001b[0mrestore_best_weights\u001b[0m\u001b[0;34m=\u001b[0m\u001b[0;32mFalse\u001b[0m\u001b[0;34m)\u001b[0m\u001b[0;34m\u001b[0m\u001b[0;34m\u001b[0m\u001b[0m\n",
            "\u001b[0;31mNameError\u001b[0m: name 'labels' is not defined"
          ]
        }
      ]
    },
    {
      "cell_type": "code",
      "source": [
        "import tensorflow as tf\n",
        "from tensorflow.keras import layers\n",
        "model = tf.keras.Sequential()\n",
        "model.add(layers.LSTM(64,return_sequences = True, input_shape=(train_df.shape[1] , 1),dropout=0.5))\n",
        "model.add(layers.Dense(1,activation='sigmoid'))\n",
        "model.compile(loss='binary_crossentropy', optimizer='adam', metrics=['acc'])\n",
        "\n",
        "# expected shape=(None, None, 200), found shape=(None, 37303, 1)\n",
        "\n",
        "\n",
        "\n",
        "model.summary()"
      ],
      "metadata": {
        "colab": {
          "base_uri": "https://localhost:8080/"
        },
        "id": "Uv7u4GUo7nIx",
        "outputId": "cd1a1c63-96d8-48bf-dabe-e892559f9c05"
      },
      "execution_count": null,
      "outputs": [
        {
          "output_type": "stream",
          "name": "stdout",
          "text": [
            "Model: \"sequential_1\"\n",
            "_________________________________________________________________\n",
            " Layer (type)                Output Shape              Param #   \n",
            "=================================================================\n",
            " lstm (LSTM)                 (None, 1553543, 64)       16896     \n",
            "                                                                 \n",
            " dense (Dense)               (None, 1553543, 1)        65        \n",
            "                                                                 \n",
            "=================================================================\n",
            "Total params: 16,961\n",
            "Trainable params: 16,961\n",
            "Non-trainable params: 0\n",
            "_________________________________________________________________\n"
          ]
        }
      ]
    },
    {
      "cell_type": "code",
      "source": [
        "#train_df,train['Label']\n",
        "\n",
        "model.fit(train_df,train['Label'],validation_data=(test_dataset,test_dataset['Label']),epochs=5,batch_size=64)"
      ],
      "metadata": {
        "id": "_hX8ZW4M8D_a"
      },
      "execution_count": null,
      "outputs": []
    },
    {
      "cell_type": "code",
      "source": [
        "train_df"
      ],
      "metadata": {
        "colab": {
          "base_uri": "https://localhost:8080/"
        },
        "id": "cZw8sTGfMSwk",
        "outputId": "69f5a317-31ba-45a9-d37d-87041fe4d9a7"
      },
      "execution_count": null,
      "outputs": [
        {
          "output_type": "execute_result",
          "data": {
            "text/plain": [
              "<3975x1553543 sparse matrix of type '<class 'numpy.float64'>'\n",
              "\twith 2167855 stored elements in Compressed Sparse Row format>"
            ]
          },
          "metadata": {},
          "execution_count": 41
        }
      ]
    },
    {
      "cell_type": "code",
      "source": [
        "model.fit(train_df, train['Label'], \n",
        "                    epochs=5, verbose=1\n",
        "                    validation_split=0.1)"
      ],
      "metadata": {
        "colab": {
          "base_uri": "https://localhost:8080/",
          "height": 1000
        },
        "id": "3AfkwbXvLvDF",
        "outputId": "97f42ab3-568f-476e-91a4-2d0bcc7e4762"
      },
      "execution_count": null,
      "outputs": [
        {
          "output_type": "stream",
          "name": "stderr",
          "text": [
            "WARNING:tensorflow:Keras is training/fitting/evaluating on array-like data. Keras may not be optimized for this format, so if your input data format is supported by TensorFlow I/O (https://github.com/tensorflow/io) we recommend using that to load a Dataset instead.\n"
          ]
        },
        {
          "output_type": "stream",
          "name": "stdout",
          "text": [
            "Epoch 1/5\n"
          ]
        },
        {
          "output_type": "error",
          "ename": "InvalidArgumentError",
          "evalue": "ignored",
          "traceback": [
            "\u001b[0;31m---------------------------------------------------------------------------\u001b[0m",
            "\u001b[0;31mInvalidArgumentError\u001b[0m                      Traceback (most recent call last)",
            "\u001b[0;32m<ipython-input-40-ec1272138791>\u001b[0m in \u001b[0;36m<module>\u001b[0;34m()\u001b[0m\n\u001b[1;32m      1\u001b[0m model.fit(train_df, train['Label'], \n\u001b[0;32m----> 2\u001b[0;31m                     epochs=5, verbose=1)\n\u001b[0m\u001b[1;32m      3\u001b[0m                     \u001b[0;31m#validation_split=0.1)\u001b[0m\u001b[0;34m\u001b[0m\u001b[0;34m\u001b[0m\u001b[0;34m\u001b[0m\u001b[0m\n",
            "\u001b[0;32m/usr/local/lib/python3.7/dist-packages/keras/utils/traceback_utils.py\u001b[0m in \u001b[0;36merror_handler\u001b[0;34m(*args, **kwargs)\u001b[0m\n\u001b[1;32m     65\u001b[0m     \u001b[0;32mexcept\u001b[0m \u001b[0mException\u001b[0m \u001b[0;32mas\u001b[0m \u001b[0me\u001b[0m\u001b[0;34m:\u001b[0m  \u001b[0;31m# pylint: disable=broad-except\u001b[0m\u001b[0;34m\u001b[0m\u001b[0;34m\u001b[0m\u001b[0m\n\u001b[1;32m     66\u001b[0m       \u001b[0mfiltered_tb\u001b[0m \u001b[0;34m=\u001b[0m \u001b[0m_process_traceback_frames\u001b[0m\u001b[0;34m(\u001b[0m\u001b[0me\u001b[0m\u001b[0;34m.\u001b[0m\u001b[0m__traceback__\u001b[0m\u001b[0;34m)\u001b[0m\u001b[0;34m\u001b[0m\u001b[0;34m\u001b[0m\u001b[0m\n\u001b[0;32m---> 67\u001b[0;31m       \u001b[0;32mraise\u001b[0m \u001b[0me\u001b[0m\u001b[0;34m.\u001b[0m\u001b[0mwith_traceback\u001b[0m\u001b[0;34m(\u001b[0m\u001b[0mfiltered_tb\u001b[0m\u001b[0;34m)\u001b[0m \u001b[0;32mfrom\u001b[0m \u001b[0;32mNone\u001b[0m\u001b[0;34m\u001b[0m\u001b[0;34m\u001b[0m\u001b[0m\n\u001b[0m\u001b[1;32m     68\u001b[0m     \u001b[0;32mfinally\u001b[0m\u001b[0;34m:\u001b[0m\u001b[0;34m\u001b[0m\u001b[0;34m\u001b[0m\u001b[0m\n\u001b[1;32m     69\u001b[0m       \u001b[0;32mdel\u001b[0m \u001b[0mfiltered_tb\u001b[0m\u001b[0;34m\u001b[0m\u001b[0;34m\u001b[0m\u001b[0m\n",
            "\u001b[0;32m/usr/local/lib/python3.7/dist-packages/tensorflow/python/eager/execute.py\u001b[0m in \u001b[0;36mquick_execute\u001b[0;34m(op_name, num_outputs, inputs, attrs, ctx, name)\u001b[0m\n\u001b[1;32m     53\u001b[0m     \u001b[0mctx\u001b[0m\u001b[0;34m.\u001b[0m\u001b[0mensure_initialized\u001b[0m\u001b[0;34m(\u001b[0m\u001b[0;34m)\u001b[0m\u001b[0;34m\u001b[0m\u001b[0;34m\u001b[0m\u001b[0m\n\u001b[1;32m     54\u001b[0m     tensors = pywrap_tfe.TFE_Py_Execute(ctx._handle, device_name, op_name,\n\u001b[0;32m---> 55\u001b[0;31m                                         inputs, attrs, num_outputs)\n\u001b[0m\u001b[1;32m     56\u001b[0m   \u001b[0;32mexcept\u001b[0m \u001b[0mcore\u001b[0m\u001b[0;34m.\u001b[0m\u001b[0m_NotOkStatusException\u001b[0m \u001b[0;32mas\u001b[0m \u001b[0me\u001b[0m\u001b[0;34m:\u001b[0m\u001b[0;34m\u001b[0m\u001b[0;34m\u001b[0m\u001b[0m\n\u001b[1;32m     57\u001b[0m     \u001b[0;32mif\u001b[0m \u001b[0mname\u001b[0m \u001b[0;32mis\u001b[0m \u001b[0;32mnot\u001b[0m \u001b[0;32mNone\u001b[0m\u001b[0;34m:\u001b[0m\u001b[0;34m\u001b[0m\u001b[0;34m\u001b[0m\u001b[0m\n",
            "\u001b[0;31mInvalidArgumentError\u001b[0m: Graph execution error:\n\nTypeError: 'SparseTensor' object is not subscriptable\nTraceback (most recent call last):\n\n  File \"/usr/local/lib/python3.7/dist-packages/tensorflow/python/ops/script_ops.py\", line 269, in __call__\n    return func(device, token, args)\n\n  File \"/usr/local/lib/python3.7/dist-packages/tensorflow/python/ops/script_ops.py\", line 147, in __call__\n    outputs = self._call(device, args)\n\n  File \"/usr/local/lib/python3.7/dist-packages/tensorflow/python/ops/script_ops.py\", line 154, in _call\n    ret = self._func(*args)\n\n  File \"/usr/local/lib/python3.7/dist-packages/tensorflow/python/autograph/impl/api.py\", line 642, in wrapper\n    return func(*args, **kwargs)\n\n  File \"/usr/local/lib/python3.7/dist-packages/keras/engine/data_adapter.py\", line 477, in py_method\n    return [slice_array(inp) for inp in flat_inputs]\n\n  File \"/usr/local/lib/python3.7/dist-packages/keras/engine/data_adapter.py\", line 477, in <listcomp>\n    return [slice_array(inp) for inp in flat_inputs]\n\n  File \"/usr/local/lib/python3.7/dist-packages/keras/engine/data_adapter.py\", line 476, in slice_array\n    contiguous=contiguous)\n\n  File \"/usr/local/lib/python3.7/dist-packages/keras/engine/training_utils.py\", line 47, in slice_arrays\n    entries = [[x[i:i + 1] for i in indices] for x in arrays]\n\n  File \"/usr/local/lib/python3.7/dist-packages/keras/engine/training_utils.py\", line 47, in <listcomp>\n    entries = [[x[i:i + 1] for i in indices] for x in arrays]\n\n  File \"/usr/local/lib/python3.7/dist-packages/keras/engine/training_utils.py\", line 47, in <listcomp>\n    entries = [[x[i:i + 1] for i in indices] for x in arrays]\n\nTypeError: 'SparseTensor' object is not subscriptable\n\n\n\t [[{{node EagerPyFunc}}]]\n\t [[IteratorGetNext]] [Op:__inference_train_function_3253]"
          ]
        }
      ]
    },
    {
      "cell_type": "code",
      "source": [
        "import re\n",
        "import pandas as pd\n",
        "import numpy as np\n",
        "from sklearn.preprocessing import LabelEncoder\n",
        "from sklearn.model_selection import train_test_split\n",
        "from keras.preprocessing.text import Tokenizer\n",
        "from keras.preprocessing.sequence import pad_sequences\n",
        "import keras\n",
        "from sklearn.metrics import classification_report\n",
        "from sklearn.metrics import accuracy_score\n",
        "import math\n",
        "import nltk"
      ],
      "metadata": {
        "id": "vbRM1PObNLgf"
      },
      "execution_count": null,
      "outputs": []
    },
    {
      "cell_type": "code",
      "source": [
        "# Hyperparameters of the model\n",
        "vocab_size = 3000 # choose based on statistics\n",
        "oov_tok = ''\n",
        "embedding_dim = 100\n",
        "max_length = 200 # choose based on statistics, for example 150 to 200\n",
        "padding_type='post'\n",
        "trunc_type='post'\n",
        "# tokenize sentences\n",
        "tokenizer = Tokenizer(num_words = vocab_size, oov_token=oov_tok)\n",
        "tokenizer.fit_on_texts(train_df)\n",
        "word_index = tokenizer.word_index\n",
        "\n",
        "\n",
        "train_sequences = tokenizer.texts_to_sequences(train_df)\n",
        "train_padded = pad_sequences(train_sequences, padding='post', maxlen=max_length)\n",
        "# convert Test dataset to sequence and pad sequences\n",
        "test_sequences = tokenizer.texts_to_sequences(test_sentences)\n",
        "test_padded = pad_sequences(test_sequences, padding='post', maxlen=max_length)"
      ],
      "metadata": {
        "colab": {
          "base_uri": "https://localhost:8080/",
          "height": 394
        },
        "id": "gf04bTdRMxDQ",
        "outputId": "1e34eae0-f277-49fa-dedd-b6f4229a8b78"
      },
      "execution_count": null,
      "outputs": [
        {
          "output_type": "error",
          "ename": "AttributeError",
          "evalue": "ignored",
          "traceback": [
            "\u001b[0;31m---------------------------------------------------------------------------\u001b[0m",
            "\u001b[0;31mAttributeError\u001b[0m                            Traceback (most recent call last)",
            "\u001b[0;32m<ipython-input-46-3ed643bd620e>\u001b[0m in \u001b[0;36m<module>\u001b[0;34m()\u001b[0m\n\u001b[1;32m      8\u001b[0m \u001b[0;31m# tokenize sentences\u001b[0m\u001b[0;34m\u001b[0m\u001b[0;34m\u001b[0m\u001b[0;34m\u001b[0m\u001b[0m\n\u001b[1;32m      9\u001b[0m \u001b[0mtokenizer\u001b[0m \u001b[0;34m=\u001b[0m \u001b[0mTokenizer\u001b[0m\u001b[0;34m(\u001b[0m\u001b[0mnum_words\u001b[0m \u001b[0;34m=\u001b[0m \u001b[0mvocab_size\u001b[0m\u001b[0;34m,\u001b[0m \u001b[0moov_token\u001b[0m\u001b[0;34m=\u001b[0m\u001b[0moov_tok\u001b[0m\u001b[0;34m)\u001b[0m\u001b[0;34m\u001b[0m\u001b[0;34m\u001b[0m\u001b[0m\n\u001b[0;32m---> 10\u001b[0;31m \u001b[0mtokenizer\u001b[0m\u001b[0;34m.\u001b[0m\u001b[0mfit_on_texts\u001b[0m\u001b[0;34m(\u001b[0m\u001b[0mtrain_df\u001b[0m\u001b[0;34m)\u001b[0m\u001b[0;34m\u001b[0m\u001b[0;34m\u001b[0m\u001b[0m\n\u001b[0m\u001b[1;32m     11\u001b[0m \u001b[0mword_index\u001b[0m \u001b[0;34m=\u001b[0m \u001b[0mtokenizer\u001b[0m\u001b[0;34m.\u001b[0m\u001b[0mword_index\u001b[0m\u001b[0;34m\u001b[0m\u001b[0;34m\u001b[0m\u001b[0m\n\u001b[1;32m     12\u001b[0m \u001b[0;34m\u001b[0m\u001b[0m\n",
            "\u001b[0;32m/usr/local/lib/python3.7/dist-packages/keras_preprocessing/text.py\u001b[0m in \u001b[0;36mfit_on_texts\u001b[0;34m(self, texts)\u001b[0m\n\u001b[1;32m    223\u001b[0m                                             \u001b[0mself\u001b[0m\u001b[0;34m.\u001b[0m\u001b[0mfilters\u001b[0m\u001b[0;34m,\u001b[0m\u001b[0;34m\u001b[0m\u001b[0;34m\u001b[0m\u001b[0m\n\u001b[1;32m    224\u001b[0m                                             \u001b[0mself\u001b[0m\u001b[0;34m.\u001b[0m\u001b[0mlower\u001b[0m\u001b[0;34m,\u001b[0m\u001b[0;34m\u001b[0m\u001b[0;34m\u001b[0m\u001b[0m\n\u001b[0;32m--> 225\u001b[0;31m                                             self.split)\n\u001b[0m\u001b[1;32m    226\u001b[0m             \u001b[0;32mfor\u001b[0m \u001b[0mw\u001b[0m \u001b[0;32min\u001b[0m \u001b[0mseq\u001b[0m\u001b[0;34m:\u001b[0m\u001b[0;34m\u001b[0m\u001b[0;34m\u001b[0m\u001b[0m\n\u001b[1;32m    227\u001b[0m                 \u001b[0;32mif\u001b[0m \u001b[0mw\u001b[0m \u001b[0;32min\u001b[0m \u001b[0mself\u001b[0m\u001b[0;34m.\u001b[0m\u001b[0mword_counts\u001b[0m\u001b[0;34m:\u001b[0m\u001b[0;34m\u001b[0m\u001b[0;34m\u001b[0m\u001b[0m\n",
            "\u001b[0;32m/usr/local/lib/python3.7/dist-packages/keras_preprocessing/text.py\u001b[0m in \u001b[0;36mtext_to_word_sequence\u001b[0;34m(text, filters, lower, split)\u001b[0m\n\u001b[1;32m     41\u001b[0m     \"\"\"\n\u001b[1;32m     42\u001b[0m     \u001b[0;32mif\u001b[0m \u001b[0mlower\u001b[0m\u001b[0;34m:\u001b[0m\u001b[0;34m\u001b[0m\u001b[0;34m\u001b[0m\u001b[0m\n\u001b[0;32m---> 43\u001b[0;31m         \u001b[0mtext\u001b[0m \u001b[0;34m=\u001b[0m \u001b[0mtext\u001b[0m\u001b[0;34m.\u001b[0m\u001b[0mlower\u001b[0m\u001b[0;34m(\u001b[0m\u001b[0;34m)\u001b[0m\u001b[0;34m\u001b[0m\u001b[0;34m\u001b[0m\u001b[0m\n\u001b[0m\u001b[1;32m     44\u001b[0m \u001b[0;34m\u001b[0m\u001b[0m\n\u001b[1;32m     45\u001b[0m     \u001b[0;32mif\u001b[0m \u001b[0msys\u001b[0m\u001b[0;34m.\u001b[0m\u001b[0mversion_info\u001b[0m \u001b[0;34m<\u001b[0m \u001b[0;34m(\u001b[0m\u001b[0;36m3\u001b[0m\u001b[0;34m,\u001b[0m\u001b[0;34m)\u001b[0m\u001b[0;34m:\u001b[0m\u001b[0;34m\u001b[0m\u001b[0;34m\u001b[0m\u001b[0m\n",
            "\u001b[0;32m/usr/local/lib/python3.7/dist-packages/scipy/sparse/base.py\u001b[0m in \u001b[0;36m__getattr__\u001b[0;34m(self, attr)\u001b[0m\n\u001b[1;32m    685\u001b[0m             \u001b[0;32mreturn\u001b[0m \u001b[0mself\u001b[0m\u001b[0;34m.\u001b[0m\u001b[0mgetnnz\u001b[0m\u001b[0;34m(\u001b[0m\u001b[0;34m)\u001b[0m\u001b[0;34m\u001b[0m\u001b[0;34m\u001b[0m\u001b[0m\n\u001b[1;32m    686\u001b[0m         \u001b[0;32melse\u001b[0m\u001b[0;34m:\u001b[0m\u001b[0;34m\u001b[0m\u001b[0;34m\u001b[0m\u001b[0m\n\u001b[0;32m--> 687\u001b[0;31m             \u001b[0;32mraise\u001b[0m \u001b[0mAttributeError\u001b[0m\u001b[0;34m(\u001b[0m\u001b[0mattr\u001b[0m \u001b[0;34m+\u001b[0m \u001b[0;34m\" not found\"\u001b[0m\u001b[0;34m)\u001b[0m\u001b[0;34m\u001b[0m\u001b[0;34m\u001b[0m\u001b[0m\n\u001b[0m\u001b[1;32m    688\u001b[0m \u001b[0;34m\u001b[0m\u001b[0m\n\u001b[1;32m    689\u001b[0m     \u001b[0;32mdef\u001b[0m \u001b[0mtranspose\u001b[0m\u001b[0;34m(\u001b[0m\u001b[0mself\u001b[0m\u001b[0;34m,\u001b[0m \u001b[0maxes\u001b[0m\u001b[0;34m=\u001b[0m\u001b[0;32mNone\u001b[0m\u001b[0;34m,\u001b[0m \u001b[0mcopy\u001b[0m\u001b[0;34m=\u001b[0m\u001b[0;32mFalse\u001b[0m\u001b[0;34m)\u001b[0m\u001b[0;34m:\u001b[0m\u001b[0;34m\u001b[0m\u001b[0;34m\u001b[0m\u001b[0m\n",
            "\u001b[0;31mAttributeError\u001b[0m: lower not found"
          ]
        }
      ]
    }
  ],
  "metadata": {
    "colab": {
      "name": "stockSentiment.ipynb",
      "provenance": [],
      "collapsed_sections": [],
      "authorship_tag": "ABX9TyNyCfR4h39U3nO2k5Tu4Lz0",
      "include_colab_link": true
    },
    "kernelspec": {
      "display_name": "Python 3",
      "name": "python3"
    },
    "language_info": {
      "name": "python"
    }
  },
  "nbformat": 4,
  "nbformat_minor": 0
}